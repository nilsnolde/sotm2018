{
 "cells": [
  {
   "cell_type": "markdown",
   "metadata": {
    "slideshow": {
     "slide_type": "slide"
    }
   },
   "source": [
    "**<center><span style=\"font-size:88px;\">openrouteservice - route the world dynamically</span></center>**\n",
    "\n",
    "### <center>Nils Nolde</center>\n",
    "#### <center>HeiGIT - University of Heidelberg</center>"
   ]
  },
  {
   "cell_type": "markdown",
   "metadata": {
    "slideshow": {
     "slide_type": "slide"
    }
   },
   "source": [
    "# Fact Sheet\n",
    "\n",
    "- **openrouteservice** is a project of the KTS backed HeiGIT institute at the University of Heidelberg\n",
    "- started in 2008, **openrouteservice** was one of the first routing API's\n",
    "- entirely **open-source**, backend written in **Java**\n",
    "- based on **OpenStreetMap** data\n",
    "- 2500 requests per day **for free**"
   ]
  },
  {
   "cell_type": "markdown",
   "metadata": {
    "slideshow": {
     "slide_type": "fragment"
    }
   },
   "source": [
    "### Available API's\n",
    "> **Directions**\n",
    "\n",
    "> **Isochrones**\n",
    "\n",
    "> **Geocoding**\n",
    "\n",
    "> **Matrix**\n",
    "\n",
    "> **Places**"
   ]
  },
  {
   "cell_type": "markdown",
   "metadata": {
    "slideshow": {
     "slide_type": "slide"
    }
   },
   "source": [
    "## Local installation\n",
    "\n",
    "<span style=\"font-size: 1.1em; font-weight: bold;\">License: </span><a href=\"https://www.apache.org/licenses/LICENSE-2.0\">Apache 2.0</a>\n",
    "\n",
    "```bash\n",
    "git clone https://github.com/GIScience/openrouteservice\n",
    "cd docker && sudo docker-compose up```"
   ]
  },
  {
   "cell_type": "markdown",
   "metadata": {
    "slideshow": {
     "slide_type": "fragment"
    }
   },
   "source": [
    "Approx. **64-128 GB RAM** per profile for `planet.pbf`."
   ]
  },
  {
   "cell_type": "markdown",
   "metadata": {
    "slideshow": {
     "slide_type": "fragment"
    }
   },
   "source": [
    "<span style=\"font-size: 1.1em; font-weight: bold;\">Geocoding</span> and <span style=\"font-size: 1.1em; font-weight: bold;\">Places</span> need special setup:\n",
    "\n",
    "<https://github.com/pelias/pelias>\n",
    "\n",
    "<https://github.com/GIScience/openpoiservice>"
   ]
  },
  {
   "cell_type": "markdown",
   "metadata": {
    "slideshow": {
     "slide_type": "slide"
    }
   },
   "source": [
    "# <center style=\"font-size: 200px\">Architecture</center>"
   ]
  },
  {
   "cell_type": "markdown",
   "metadata": {
    "slideshow": {
     "slide_type": "slide"
    }
   },
   "source": [
    "![blabla](../img/architecture.png)"
   ]
  },
  {
   "cell_type": "markdown",
   "metadata": {
    "slideshow": {
     "slide_type": "slide"
    }
   },
   "source": [
    "## Infrastructure\n",
    "\n",
    "<div style=\"display: inline-block; text-align:left; width: 36%; vertical-align: top; \">\n",
    "    <h3>Clients</h3>\n",
    "    <br>\n",
    "    <div style=\"margin:0px 20px; width: 30%; display: inline-block; vertical-align: top\">\n",
    "        <img src=\"../img/python.png\" style=\"height:150px\">\n",
    "    </div>\n",
    "    <div style=\"display: inline-block; vertical-align: top;\">\n",
    "        **Python** client\n",
    "        <br>\n",
    "        <div style=\"padding: 5px 20px; display: inline-block; vertical-align: middle;\">\n",
    "            <figure>\n",
    "                <a href=\"https://github.com/GIScience/openrouteservice-py\"><img src=\"../img/github.png\" style=\"height:2em\"></a>\n",
    "                <figcaption><center><small>Github</small></center></figcaption>\n",
    "            </figure>\n",
    "        </div>\n",
    "        <div style=\"padding: 5px 20px; display: inline-block; vertical-align: middle;\">\n",
    "            <figure>\n",
    "                <a href=\"https://pypi.org/project/openrouteservice/\"><img src=\"../img/pypi.png\" style=\"height:2em\"></a>\n",
    "                <figcaption><center><small>PyPI</small></center></figcaption>\n",
    "            </figure>\n",
    "        </div>\n",
    "        <div style=\"padding: 5px 20px; display: inline-block; vertical-align: middle;\">\n",
    "            <figure>\n",
    "                <a href=\"https://openrouteservice-py.readthedocs.io/en/latest/\"><img src=\"../img/rtd.png\" style=\"height:2em\"></a>\n",
    "                <figcaption><center><small>RTD</small></center></figcaption>\n",
    "            </figure>\n",
    "        </div>\n",
    "    </div>   \n",
    "    <hr style=\"margin-right: 20px\">\n",
    "\n",
    "    <div style=\"margin:0px 20px; width: 30%; display: inline-block; vertical-align: top\">\n",
    "        <img src=\"../img/r.png\" style=\"height:150px\">\n",
    "    </div>\n",
    "    <div style=\"display: inline-block; vertical-align: top;\">\n",
    "        **R** client\n",
    "        <br>\n",
    "        <div style=\"padding: 5px 20px; display: inline-block; vertical-align: middle;\">\n",
    "            <figure>\n",
    "                <a href=\"https://github.com/GIScience/openrouteservice-r\"><img src=\"../img/github.png\" style=\"height:2em\"></a>\n",
    "                <figcaption><center><small>Github</small></center></figcaption>\n",
    "            </figure>\n",
    "        </div>\n",
    "        <div style=\"padding: 5px 20px; display: inline-block; vertical-align: middle;\">\n",
    "            <figure>\n",
    "                <a href=\"https://giscience.github.io/openrouteservice-r/articles/openrouteservice.html\"><img src=\"../img/documentation.png\" style=\"height:2em\"></a>\n",
    "                <figcaption><center><small>Docu</small></center></figcaption>\n",
    "            </figure>\n",
    "        </div>\n",
    "    </div>   \n",
    "    <hr style=\"margin-right: 20px\">\n",
    "\n",
    "    <div style=\"margin:0px 20px; width: 30%; display: inline-block; vertical-align: top\">\n",
    "        <img src=\"../img/qgis.png\" style=\"height:150px\">\n",
    "    </div>\n",
    "    <div style=\"display: inline-block; vertical-align: top;\">\n",
    "        **QGIS** plugin\n",
    "        <br>\n",
    "        <div style=\"padding: 5px 20px; display: inline-block; vertical-align: middle;\">\n",
    "            <figure>\n",
    "                <a href=\"https://github.com/nilsnolde/OSMtools\"><img src=\"../img/github.png\" style=\"height:2em\"></a>\n",
    "                <figcaption><center><small>Github</small></center></figcaption>\n",
    "            </figure>\n",
    "        </div>\n",
    "        <div style=\"padding: 5px 20px; display: inline-block; vertical-align: middle;\">\n",
    "            <figure>\n",
    "                <a href=\"https://plugins.qgis.org/plugins/OSMtools/\"><img src=\"../img/download.png\" style=\"height:2em\"></a>\n",
    "                <figcaption><center><small>Plugin repo</small></center></figcaption>\n",
    "            </figure>\n",
    "        </div>\n",
    "    </div>   \n",
    "    <hr style=\"margin-right: 20px\">\n",
    "\n",
    "    <div style=\"margin:0px 20px; width: 30%; display: inline-block; vertical-align: top\">\n",
    "        <img src=\"../img/app.png\" style=\"height:150px\">\n",
    "    </div>\n",
    "    <div style=\"display: inline-block; vertical-align: top;\">\n",
    "        Web app\n",
    "        <br>\n",
    "        <div style=\"padding: 5px 10px; display: inline-block; vertical-align: middle;\">\n",
    "            <figure>\n",
    "                <a href=\"https://github.com/GIScience/openrouteservice-app\"><img src=\"../img/github.png\" style=\"height:2em\"></a>\n",
    "                <figcaption><center><small>Github</small></center></figcaption>\n",
    "            </figure>\n",
    "        </div>\n",
    "    </div>   \n",
    "    <hr style=\"margin-right: 20px\">\n",
    "</div>\n",
    "\n",
    "<div style=\"padding-left: 40px; display: inline-block; text-align:left; width: 60%; vertical-align: top; border-left: 1px solid black\">\n",
    "    <h3>Microservices</h3>\n",
    "    <br>\n",
    "    <div style=\"margin:0px 20px; width: 30%; display: inline-block; vertical-align: top\">\n",
    "        <figure>\n",
    "            <img src=\"../img/places.png\" style=\"height:150px\">\n",
    "            <figcaption><strong>openpoiservice</strong></figcaption>\n",
    "        </figure>\n",
    "    </div>\n",
    "    <div style=\"width: 60%; display: inline-block; vertical-align: top;\">\n",
    "        Flask application to serve OSM Places of Interest (POI's) via a Rest API.\n",
    "        <h5>Features</h5>\n",
    "        <ul>\n",
    "            <li>fully self-contained microservice to create, drop and populate PostGIS tables\n",
    "            <li>`POST` endpoint, which accepts GeoJSON as geometry and OSM tags as filters\n",
    "            <li>Customizable setup with Docker container\n",
    "        </ul>\n",
    "        <br>\n",
    "        <div style=\"padding: 5px 10px; display: inline-block; vertical-align: middle;\">\n",
    "            <figure style=\"padding: 10px 0\">\n",
    "                <a href=\"https://github.com/GIScience/openpoiservice\"><img src=\"../img/github.png\" style=\"height:2em\"></a>\n",
    "                <figcaption><small>Github</small></figcaption>\n",
    "            </figure>\n",
    "        </div>\n",
    "    </div>\n",
    "    <h3>_Coming Soon!!_</h3>\n",
    "    <div style=\"margin:0px 20px; width: 30%; display: inline-block; vertical-align: top\">\n",
    "        <figure>\n",
    "            <img src=\"../img/openfuelservice.png\" style=\"height:150px\">\n",
    "            <figcaption><strong>openfuelservice</strong></figcaption>\n",
    "        </figure>\n",
    "    </div>\n",
    "    <div style=\"width: 60%; display: inline-block; vertical-align: top;\">\n",
    "        Flask application to estimate fuel consumption on > 600 car models. Takes GeoJSON and car model as input.\n",
    "    </div>\n",
    "</div>"
   ]
  },
  {
   "cell_type": "code",
   "execution_count": null,
   "metadata": {
    "slideshow": {
     "slide_type": "skip"
    }
   },
   "outputs": [],
   "source": [
    "import folium\n",
    "import branca\n",
    "from folium.plugins import MeasureControl\n",
    "from shapely import geometry\n",
    "from IPython.display import HTML, display, clear_output\n",
    "from ipywidgets import widgets, interact, interactive\n",
    "import json\n",
    "from urllib.parse import urlencode\n",
    "import requests\n",
    "\n",
    "from pprint import pprint\n",
    "from numpy import average\n",
    "\n",
    "api_key = json.load(open('token.json'))"
   ]
  },
  {
   "cell_type": "code",
   "execution_count": null,
   "metadata": {
    "slideshow": {
     "slide_type": "skip"
    }
   },
   "outputs": [],
   "source": [
    "# Set up some fundamentals\n",
    "\n",
    "# Style function for folium GeoJson\n",
    "def style_function(opacity=1):\n",
    "    return lambda feature: dict(weight=7,\n",
    "                                opacity=opacity,\n",
    "                               )\n",
    "\n",
    "# Base map factory for interactive examples\n",
    "def createBaseMap(width, height, coords=(49.406486, 8.683481), zoom=15, map_provider='stamenwatercolor'):\n",
    "    fig = folium.Figure(width=width, height=height)\n",
    "    m = folium.Map(tiles=map_provider, location=coords, zoom_start=zoom)\n",
    "    \n",
    "    m.add_child(MeasureControl())\n",
    "#     m.add_child(folium.LayerControl())\n",
    "    \n",
    "    return fig, m"
   ]
  },
  {
   "cell_type": "markdown",
   "metadata": {
    "slideshow": {
     "slide_type": "slide"
    }
   },
   "source": [
    "## Directions API\n",
    "\n",
    "Classical routing API, based on the excellent [GraphHopper](https://github.com/graphhopper/graphhopper) stack.\n",
    "\n",
    "<div style=\"margin:0px 20px; width: 40%; display: inline-block; vertical-align: top;\">\n",
    "<h3>Features</h3>\n",
    "<br>\n",
    "<div style=\" border-right: 1px solid black\">\n",
    "<ul>\n",
    "    <li>10 routing profiles:\n",
    "        <ul>\n",
    "            <li>2 car: `driving-car`, `driving-hgv`\n",
    "            <li>5 cycling, incl. `*-mountain`, `*-safe`\n",
    "            <li>2 walking: `foot-walking`, `foot-hiking`\n",
    "            <li><strong>`wheelchair`</strong>\n",
    "        </ul>\n",
    "    <li>Output formats: `geojson`, `gpx`\n",
    "    <li>13 languages for instructions\n",
    "    <li>Returns extra way information for route segments, e.g. steepness, surface, tollways\n",
    "</ul>\n",
    "</div>\n",
    "</div>\n",
    "\n",
    "<div style=\"margin:0px 20px; width: 50%; display: inline-block;vertical-align: top\">\n",
    "<h3>Functionalities</h3>\n",
    "<ul style=\"line-height: 30px\">\n",
    "    <li>`bearing`, `radiuses`: Control input point snapping behavior\n",
    "    <li>`continue_straight`: Avoid u-turns, even if faster\n",
    "    <li>`avoid_*`: Avoid features, e.g. ferry, **countries**, **polygons**\n",
    "    <li>vehicle dimensions: use OSM dimension tags to route compliantly\n",
    "    <li>**green**/**quiet**: prefer green and/or quiet routes (**only** available in Germany right now)\n",
    "    <li>**landmark** backed pedestrian navigation (**only** available in Germany)\n",
    "</ul>\n",
    "</div>"
   ]
  },
  {
   "cell_type": "markdown",
   "metadata": {
    "slideshow": {
     "slide_type": "slide"
    }
   },
   "source": [
    "## Directions - Avoid features for `cycling-regular`"
   ]
  },
  {
   "cell_type": "code",
   "execution_count": null,
   "metadata": {
    "slideshow": {
     "slide_type": "skip"
    }
   },
   "outputs": [],
   "source": [
    "# Defines widget, for complete list see http://ipywidgets.readthedocs.io/en/latest/examples/Widget%20List.html\n",
    "widget_hills = widgets.ToggleButtons(\n",
    "                    options=['hills', 'unpavedroads', 'none'],\n",
    "                    description='Avoid:',\n",
    "                    disabled=False,\n",
    "                    button_style='info', # 'success', 'info', 'warning', 'danger' or ''\n",
    "                    )\n",
    "\n",
    "# Event callback for on_change event of widget. 'change' is the emittant with 4 dict entries. \n",
    "# We're interested in 'new': new value of widget\n",
    "def on_change_avoid(change):    \n",
    "    # Call the routing function and parse\n",
    "    route = avoidHills(change['new'])\n",
    "    bbox = route['bbox']\n",
    "    bbox_centroid = (average([bbox[1],bbox[3]]),average([bbox[0],bbox[2]]))\n",
    "    route_properties = route['features'][0]['properties']\n",
    "    \n",
    "    # Clear all output, otherwise maps are appended to the figure\n",
    "    clear_output()\n",
    "    \n",
    "    # Set up the folium map with custom HTML popup\n",
    "    fig1, map1 = createBaseMap('100%', '400', map_provider='OpenStreetMap', coords=bbox_centroid, zoom=12)\n",
    "    popup_html = \"\"\"<strong>duration: </strong>{0:.1f} mins<br>\n",
    "                    <strong>distance: </strong>{1:.3f} km\"\"\".format(route_properties['summary'][0]['duration'] / 60,\n",
    "                                                           route_properties['summary'][0]['distance'] / 1000)\n",
    "    \n",
    "    iframe = branca.element.IFrame(html=popup_html, width=300, height=150)\n",
    "    popup = folium.Popup(iframe, max_width=300)\n",
    "    \n",
    "    gj = folium.features.GeoJson(route, style_function=style_function())\n",
    "    gj.add_child(popup)\n",
    "    gj.add_to(map1)\n",
    "    map1.add_to(fig1)\n",
    "    \n",
    "    # Displays widget in calling cell, i.e. below\n",
    "    display(widget_hills)\n",
    "    display(fig1)\n",
    "    \n",
    "# Widget event handler function        \n",
    "widget_hills.observe(on_change_avoid, names='value')"
   ]
  },
  {
   "cell_type": "code",
   "execution_count": 22,
   "metadata": {
    "slideshow": {
     "slide_type": "fragment"
    }
   },
   "outputs": [
    {
     "data": {
      "application/vnd.jupyter.widget-view+json": {
       "model_id": "beec267b44fe4e7cb1320f9bbe7288c4",
       "version_major": 2,
       "version_minor": 0
      },
      "text/plain": [
       "ToggleButtons(button_style='info', description='Avoid:', index=2, options=('hills', 'unpavedroads', 'none'), v…"
      ]
     },
     "metadata": {},
     "output_type": "display_data"
    },
    {
     "data": {
      "text/html": [
       "<iframe src=\"data:text/html;charset=utf-8;base64,PCFET0NUWVBFIGh0bWw+CjxoZWFkPiAgICAKICAgIDxtZXRhIGh0dHAtZXF1aXY9ImNvbnRlbnQtdHlwZSIgY29udGVudD0idGV4dC9odG1sOyBjaGFyc2V0PVVURi04IiAvPgogICAgPHNjcmlwdD5MX1BSRUZFUl9DQU5WQVMgPSBmYWxzZTsgTF9OT19UT1VDSCA9IGZhbHNlOyBMX0RJU0FCTEVfM0QgPSBmYWxzZTs8L3NjcmlwdD4KICAgIDxzY3JpcHQgc3JjPSJodHRwczovL2Nkbi5qc2RlbGl2ci5uZXQvbnBtL2xlYWZsZXRAMS4yLjAvZGlzdC9sZWFmbGV0LmpzIj48L3NjcmlwdD4KICAgIDxzY3JpcHQgc3JjPSJodHRwczovL2FqYXguZ29vZ2xlYXBpcy5jb20vYWpheC9saWJzL2pxdWVyeS8xLjExLjEvanF1ZXJ5Lm1pbi5qcyI+PC9zY3JpcHQ+CiAgICA8c2NyaXB0IHNyYz0iaHR0cHM6Ly9tYXhjZG4uYm9vdHN0cmFwY2RuLmNvbS9ib290c3RyYXAvMy4yLjAvanMvYm9vdHN0cmFwLm1pbi5qcyI+PC9zY3JpcHQ+CiAgICA8c2NyaXB0IHNyYz0iaHR0cHM6Ly9jZG5qcy5jbG91ZGZsYXJlLmNvbS9hamF4L2xpYnMvTGVhZmxldC5hd2Vzb21lLW1hcmtlcnMvMi4wLjIvbGVhZmxldC5hd2Vzb21lLW1hcmtlcnMuanMiPjwvc2NyaXB0PgogICAgPGxpbmsgcmVsPSJzdHlsZXNoZWV0IiBocmVmPSJodHRwczovL2Nkbi5qc2RlbGl2ci5uZXQvbnBtL2xlYWZsZXRAMS4yLjAvZGlzdC9sZWFmbGV0LmNzcyIvPgogICAgPGxpbmsgcmVsPSJzdHlsZXNoZWV0IiBocmVmPSJodHRwczovL21heGNkbi5ib290c3RyYXBjZG4uY29tL2Jvb3RzdHJhcC8zLjIuMC9jc3MvYm9vdHN0cmFwLm1pbi5jc3MiLz4KICAgIDxsaW5rIHJlbD0ic3R5bGVzaGVldCIgaHJlZj0iaHR0cHM6Ly9tYXhjZG4uYm9vdHN0cmFwY2RuLmNvbS9ib290c3RyYXAvMy4yLjAvY3NzL2Jvb3RzdHJhcC10aGVtZS5taW4uY3NzIi8+CiAgICA8bGluayByZWw9InN0eWxlc2hlZXQiIGhyZWY9Imh0dHBzOi8vbWF4Y2RuLmJvb3RzdHJhcGNkbi5jb20vZm9udC1hd2Vzb21lLzQuNi4zL2Nzcy9mb250LWF3ZXNvbWUubWluLmNzcyIvPgogICAgPGxpbmsgcmVsPSJzdHlsZXNoZWV0IiBocmVmPSJodHRwczovL2NkbmpzLmNsb3VkZmxhcmUuY29tL2FqYXgvbGlicy9MZWFmbGV0LmF3ZXNvbWUtbWFya2Vycy8yLjAuMi9sZWFmbGV0LmF3ZXNvbWUtbWFya2Vycy5jc3MiLz4KICAgIDxsaW5rIHJlbD0ic3R5bGVzaGVldCIgaHJlZj0iaHR0cHM6Ly9yYXdnaXQuY29tL3B5dGhvbi12aXN1YWxpemF0aW9uL2ZvbGl1bS9tYXN0ZXIvZm9saXVtL3RlbXBsYXRlcy9sZWFmbGV0LmF3ZXNvbWUucm90YXRlLmNzcyIvPgogICAgPHN0eWxlPmh0bWwsIGJvZHkge3dpZHRoOiAxMDAlO2hlaWdodDogMTAwJTttYXJnaW46IDA7cGFkZGluZzogMDt9PC9zdHlsZT4KICAgIDxzdHlsZT4jbWFwIHtwb3NpdGlvbjphYnNvbHV0ZTt0b3A6MDtib3R0b206MDtyaWdodDowO2xlZnQ6MDt9PC9zdHlsZT4KICAgIAogICAgICAgICAgICA8c3R5bGU+ICNtYXBfNWZkMGI0MDU3ZDI2NDc4YmFiYWQ1OGNjNmNmMDFkZTAgewogICAgICAgICAgICAgICAgcG9zaXRpb24gOiByZWxhdGl2ZTsKICAgICAgICAgICAgICAgIHdpZHRoIDogMTAwLjAlOwogICAgICAgICAgICAgICAgaGVpZ2h0OiAxMDAuMCU7CiAgICAgICAgICAgICAgICBsZWZ0OiAwLjAlOwogICAgICAgICAgICAgICAgdG9wOiAwLjAlOwogICAgICAgICAgICAgICAgfQogICAgICAgICAgICA8L3N0eWxlPgogICAgICAgIAogICAgPHNjcmlwdCBzcmM9Imh0dHBzOi8vY2RuLnJhd2dpdC5jb20vbGphZ2lzL2xlYWZsZXQtbWVhc3VyZS8yLjEuNy9kaXN0L2xlYWZsZXQtbWVhc3VyZS5qcyI+PC9zY3JpcHQ+CiAgICA8bGluayByZWw9InN0eWxlc2hlZXQiIGhyZWY9Imh0dHBzOi8vY2RuLnJhd2dpdC5jb20vbGphZ2lzL2xlYWZsZXQtbWVhc3VyZS8yLjEuNy9kaXN0L2xlYWZsZXQtbWVhc3VyZS5jc3MiLz4KPC9oZWFkPgo8Ym9keT4gICAgCiAgICAKICAgICAgICAgICAgPGRpdiBjbGFzcz0iZm9saXVtLW1hcCIgaWQ9Im1hcF81ZmQwYjQwNTdkMjY0NzhiYWJhZDU4Y2M2Y2YwMWRlMCIgPjwvZGl2PgogICAgICAgIAo8L2JvZHk+CjxzY3JpcHQ+ICAgIAogICAgCgogICAgICAgICAgICAKICAgICAgICAgICAgICAgIHZhciBib3VuZHMgPSBudWxsOwogICAgICAgICAgICAKCiAgICAgICAgICAgIHZhciBtYXBfNWZkMGI0MDU3ZDI2NDc4YmFiYWQ1OGNjNmNmMDFkZTAgPSBMLm1hcCgKICAgICAgICAgICAgICAgICAgICAgICAgICAgICAgICAgICdtYXBfNWZkMGI0MDU3ZDI2NDc4YmFiYWQ1OGNjNmNmMDFkZTAnLAogICAgICAgICAgICAgICAgICAgICAgICAgICAgICAgICAge2NlbnRlcjogWzQ5LjQ1Nzc1NSw4LjcxMjY5Ml0sCiAgICAgICAgICAgICAgICAgICAgICAgICAgICAgICAgICB6b29tOiAxMiwKICAgICAgICAgICAgICAgICAgICAgICAgICAgICAgICAgIG1heEJvdW5kczogYm91bmRzLAogICAgICAgICAgICAgICAgICAgICAgICAgICAgICAgICAgbGF5ZXJzOiBbXSwKICAgICAgICAgICAgICAgICAgICAgICAgICAgICAgICAgIHdvcmxkQ29weUp1bXA6IGZhbHNlLAogICAgICAgICAgICAgICAgICAgICAgICAgICAgICAgICAgY3JzOiBMLkNSUy5FUFNHMzg1NwogICAgICAgICAgICAgICAgICAgICAgICAgICAgICAgICB9KTsKICAgICAgICAgICAgCiAgICAgICAgCiAgICAKICAgICAgICAgICAgdmFyIHRpbGVfbGF5ZXJfYTZmMGEwNGVlZGFiNGMwY2I1NDliODRjY2YxMmM3ZTMgPSBMLnRpbGVMYXllcigKICAgICAgICAgICAgICAgICdodHRwczovL3tzfS50aWxlLm9wZW5zdHJlZXRtYXAub3JnL3t6fS97eH0ve3l9LnBuZycsCiAgICAgICAgICAgICAgICB7CiAgImF0dHJpYnV0aW9uIjogbnVsbCwKICAiZGV0ZWN0UmV0aW5hIjogZmFsc2UsCiAgIm1heFpvb20iOiAxOCwKICAibWluWm9vbSI6IDEsCiAgIm5vV3JhcCI6IGZhbHNlLAogICJzdWJkb21haW5zIjogImFiYyIKfQogICAgICAgICAgICAgICAgKS5hZGRUbyhtYXBfNWZkMGI0MDU3ZDI2NDc4YmFiYWQ1OGNjNmNmMDFkZTApOwogICAgICAgIAogICAgCiAgICAgICAgICAgIHZhciBtZWFzdXJlX2NvbnRyb2xfYjEzNjRiNDRlM2JlNDBiZjg0YWYxMGYyZDkxNjljZGUgPSBuZXcgTC5Db250cm9sLk1lYXN1cmUoCiAgICAgICAgICAgIHsicG9zaXRpb24iOiAidG9wcmlnaHQiLCAicHJpbWFyeUxlbmd0aFVuaXQiOiAibWV0ZXJzIiwgInNlY29uZGFyeUxlbmd0aFVuaXQiOiAibWlsZXMiLCAicHJpbWFyeUFyZWFVbml0IjogInNxbWV0ZXJzIiwgInNlY29uZGFyeUFyZWFVbml0IjogImFjcmVzIn0pOwogICAgICAgICAgICBtYXBfNWZkMGI0MDU3ZDI2NDc4YmFiYWQ1OGNjNmNmMDFkZTAuYWRkQ29udHJvbChtZWFzdXJlX2NvbnRyb2xfYjEzNjRiNDRlM2JlNDBiZjg0YWYxMGYyZDkxNjljZGUpOwoKICAgICAgICAKICAgIAoKICAgICAgICAgICAgCgogICAgICAgICAgICAgICAgdmFyIGdlb19qc29uXzU1ZGYwZjcyNjNkMjRlY2FhYjI3MWMwYTMxYzk0NTdjID0gTC5nZW9Kc29uKAogICAgICAgICAgICAgICAgICAgIHsiYmJveCI6IFs4LjY3NDQ0MiwgNDkuNDIyMjA3LCA4Ljc1MDk0MiwgNDkuNDkzMzAzXSwgImZlYXR1cmVzIjogW3siZ2VvbWV0cnkiOiB7ImNvb3JkaW5hdGVzIjogW1s4LjY4MjAzOSwgNDkuNDIyMjA3XSwgWzguNjgxODE2LCA0OS40MjI4MzZdLCBbOC42ODE3MzIsIDQ5LjQyMzE0NV0sIFs4LjY4Mjg4NCwgNDkuNDIzMzQzXSwgWzguNjgyNzIsIDQ5LjQyMzU4XSwgWzguNjgzMTE0LCA0OS40MjM2NDldLCBbOC42ODM0NDYsIDQ5LjQyMzcwN10sIFs4LjY4MjkzNywgNDkuNDI0NDM4XSwgWzguNjgyMzY2LCA0OS40MjUxNDJdLCBbOC42ODIxNjcsIDQ5LjQyNTM2NV0sIFs4LjY4MjM1MSwgNDkuNDI1NTI0XSwgWzguNjgyNjI4LCA0OS40MjU3ODNdLCBbOC42ODMwOTIsIDQ5LjQyNjE4OF0sIFs4LjY4MzE2MiwgNDkuNDI2MjUxXSwgWzguNjgzMjY0LCA0OS40MjYzNF0sIFs4LjY4MzI3NSwgNDkuNDI2MzNdLCBbOC42ODMzNywgNDkuNDI2MjcyXSwgWzguNjgzNDQsIDQ5LjQyNjI1NV0sIFs4LjY4MzQ5NywgNDkuNDI2MjQzXSwgWzguNjgzNTE0LCA0OS40MjYyNThdLCBbOC42ODM1ODMsIDQ5LjQyNjM0MV0sIFs4LjY4NDI5OSwgNDkuNDI2OTk3XSwgWzguNjg0OTQ2LCA0OS40Mjc2MTNdLCBbOC42ODQ5NjQsIDQ5LjQyNzcxXSwgWzguNjg1MTIsIDQ5LjQyNzY5N10sIFs4LjY4NTM0MywgNDkuNDI3Njc0XSwgWzguNjg1NDM5LCA0OS40Mjc2NjhdLCBbOC42ODU1NDUsIDQ5LjQyNzY3Ml0sIFs4LjY4NTc1LCA0OS40Mjc2OTddLCBbOC42ODU4OTYsIDQ5LjQyNzcyXSwgWzguNjg2MTI2LCA0OS40Mjc3NDldLCBbOC42ODYzNDksIDQ5LjQyNzc4Nl0sIFs4LjY4Njc0MSwgNDkuNDI3ODgyXSwgWzguNjg2Njk5LCA0OS40Mjc5OTddLCBbOC42ODY2NCwgNDkuNDI4MTYyXSwgWzguNjg2NTU3LCA0OS40MjgzNDVdLCBbOC42ODY0MjQsIDQ5LjQyODUzN10sIFs4LjY4NjM1MiwgNDkuNDI4NTY3XSwgWzguNjg2MDMxLCA0OS40Mjg2M10sIFs4LjY4NjAwNiwgNDkuNDI4NjMyXSwgWzguNjg1OTkxLCA0OS40Mjg2MzNdLCBbOC42ODU5NTQsIDQ5LjQyODYzMV0sIFs4LjY4NTg3NiwgNDkuNDI4ODRdLCBbOC42ODU3MzEsIDQ5LjQyOTE2NF0sIFs4LjY4NTM2OCwgNDkuNDI5NjQ0XSwgWzguNjg1MzE0LCA0OS40Mjk3MTVdLCBbOC42ODUyNzUsIDQ5LjQyOTc2N10sIFs4LjY4NDcwMSwgNDkuNDMwNTMzXSwgWzguNjg0NTk2LCA0OS40MzA3MTFdLCBbOC42ODQ1MDEsIDQ5LjQzMDkzMl0sIFs4LjY4NDM0NSwgNDkuNDMxNDM5XSwgWzguNjg0MzMsIDQ5LjQzMTUxM10sIFs4LjY4NDI3OSwgNDkuNDMxNjk2XSwgWzguNjg0MTg5LCA0OS40MzIwMDhdLCBbOC42ODQxMDIsIDQ5LjQzMjI5N10sIFs4LjY4MzkwNiwgNDkuNDMyOTQ5XSwgWzguNjgzODY5LCA0OS40MzMxODVdLCBbOC42ODM4NzcsIDQ5LjQzMzI1NF0sIFs4LjY4Mzc4NiwgNDkuNDMzMjgzXSwgWzguNjgzNjk4LCA0OS40MzMzMTZdLCBbOC42ODM1OTIsIDQ5LjQzMzM0Nl0sIFs4LjY4MzUyNCwgNDkuNDMzMzU2XSwgWzguNjgzNDU0LCA0OS40MzMzNjJdLCBbOC42ODMzODgsIDQ5LjQzMzM2NV0sIFs4LjY4MzI5OCwgNDkuNDMzMzY1XSwgWzguNjgzMjk2LCA0OS40MzM1MDVdLCBbOC42ODMzNjgsIDQ5LjQzNDEwM10sIFs4LjY4MzQwNCwgNDkuNDM0MTM2XSwgWzguNjgzMzQyLCA0OS40MzQxOTldLCBbOC42ODMyMjIsIDQ5LjQzNDQ0MV0sIFs4LjY4MzE3NSwgNDkuNDM0NTc0XSwgWzguNjgzMTA3LCA0OS40MzQ3NDZdLCBbOC42ODMwNDgsIDQ5LjQzNDg5OV0sIFs4LjY4Mjc0NywgNDkuNDM1NDk3XSwgWzguNjgyMzcxLCA0OS40MzU5NjldLCBbOC42ODExNzgsIDQ5LjQzNzc2Nl0sIFs4LjY4MTAxNiwgNDkuNDM4MDM1XSwgWzguNjgwOTQ3LCA0OS40MzgyMTVdLCBbOC42ODA4OTgsIDQ5LjQzODQ2M10sIFs4LjY4MDg0OSwgNDkuNDM4NjI3XSwgWzguNjgwNDM0LCA0OS40Mzk2NzZdLCBbOC42ODAwNDIsIDQ5LjQ0MDMyNF0sIFs4LjY3OTg2OSwgNDkuNDQwNjY5XSwgWzguNjc5NzEsIDQ5LjQ0MTA1NV0sIFs4LjY3OTU4OCwgNDkuNDQxNDFdLCBbOC42Nzk1MjMsIDQ5LjQ0MTY3OF0sIFs4LjY3OTI2MSwgNDkuNDQyNjI2XSwgWzguNjc5MjE1LCA0OS40NDI3NDhdLCBbOC42Nzg1MjgsIDQ5LjQ0MjY1MV0sIFs4LjY3ODQyMiwgNDkuNDQyNjc4XSwgWzguNjc4Mzc3LCA0OS40NDI3M10sIFs4LjY3NzY4OSwgNDkuNDQ0NjA5XSwgWzguNjc3MjUxLCA0OS40NDU0NDFdLCBbOC42NzcxMDIsIDQ5LjQ0NTc0XSwgWzguNjc2OTMzLCA0OS40NDU5ODNdLCBbOC42NzY3NTUsIDQ5LjQ0NjEwOF0sIFs4LjY3NjE2MSwgNDkuNDQ2Mzk5XSwgWzguNjc1OTg5LCA0OS40NDY1NzhdLCBbOC42NzUzODYsIDQ5LjQ0NzMxOV0sIFs4LjY3NDY3NywgNDkuNDQ4MjE5XSwgWzguNjc0NDQyLCA0OS40NDg1NDddLCBbOC42NzQ3OTYsIDQ5LjQ0ODYwN10sIFs4LjY3NDkxNCwgNDkuNDQ4NjM0XSwgWzguNjc1MTE1LCA0OS40NDg2NjddLCBbOC42NzUzNDMsIDQ5LjQ0ODddLCBbOC42NzU1MTgsIDQ5LjQ0ODcyM10sIFs4LjY3NTkxLCA0OS40NDg3NDFdLCBbOC42NzYyMDIsIDQ5LjQ0ODc2MV0sIFs4LjY3NjM2LCA0OS40NDg3NzJdLCBbOC42NzYxMDIsIDQ5LjQ0OTkxN10sIFs4LjY3NzA0OSwgNDkuNDUwMDE5XSwgWzguNjc3MTA4LCA0OS40NTAwMjNdLCBbOC42NzcyMDIsIDQ5LjQ1MDAyN10sIFs4LjY3Nzg3MywgNDkuNDUwMDM0XSwgWzguNjc4MTI3LCA0OS40NTAwMzRdLCBbOC42NzgxMjksIDQ5LjQ1MDQ5Ml0sIFs4LjY3ODExNywgNDkuNDUwNjk3XSwgWzguNjc4MzExLCA0OS40NTA2ODRdLCBbOC42Nzg1NzksIDQ5LjQ1MDY2Nl0sIFs4LjY3ODY0NSwgNDkuNDUwNjhdLCBbOC42Nzg2NzMsIDQ5LjQ1MDcyOF0sIFs4LjY3ODc1MSwgNDkuNDUwODc4XSwgWzguNjc4ODQzLCA0OS40NTEwNDVdLCBbOC42Nzg5MTYsIDQ5LjQ1MTE0N10sIFs4LjY3ODk4MSwgNDkuNDUxMTE3XSwgWzguNjc5MTk1LCA0OS40NTEwMjFdLCBbOC42Nzk2NTQsIDQ5LjQ1MDcyNl0sIFs4LjY3OTk4MywgNDkuNDUwNjJdLCBbOC42ODAzNDEsIDQ5LjQ1MDUxMl0sIFs4LjY4MDg4NywgNDkuNDUwMzY1XSwgWzguNjgxMDY4LCA0OS40NTAyOTNdLCBbOC42ODEyNzksIDQ5LjQ1MDI2MV0sIFs4LjY4MTQ4OCwgNDkuNDUwMjldLCBbOC42ODE5OTIsIDQ5LjQ1MDMxXSwgWzguNjgzMzI0LCA0OS40NTA0OTFdLCBbOC42ODM4MjcsIDQ5LjQ1MDUyNF0sIFs4LjY4NTU1MiwgNDkuNDUwNTddLCBbOC42ODY3NCwgNDkuNDUwNTgzXSwgWzguNjg3MzM4LCA0OS40NTA2MTRdLCBbOC42ODc0MDQsIDQ5LjQ1MDYwNF0sIFs4LjY4NzQ0NSwgNDkuNDUwNTc2XSwgWzguNjg3NDg5LCA0OS40NTA1MDVdLCBbOC42ODc0OTEsIDQ5LjQ1MDQ4NV0sIFs4LjY4NzQ5MiwgNDkuNDUwNDY4XSwgWzguNjg3NDgyLCA0OS40NTA0MjhdLCBbOC42ODc4NTgsIDQ5LjQ1MDQ1OF0sIFs4LjY4ODMzNiwgNDkuNDUwNTRdLCBbOC42ODg3MjUsIDQ5LjQ1MDY0Nl0sIFs4LjY4OTcsIDQ5LjQ1MTA4N10sIFs4LjY5MDIzMSwgNDkuNDUxMzU1XSwgWzguNjkwMzMzLCA0OS40NTE0MTFdLCBbOC42OTA0OTksIDQ5LjQ1MTQyNV0sIFs4LjY5MDgwNSwgNDkuNDUxNDZdLCBbOC42OTA5OTMsIDQ5LjQ1MTQ5Nl0sIFs4LjY5MjI5OSwgNDkuNDUxNjMzXSwgWzguNjkyNjEzLCA0OS40NTE3XSwgWzguNjkyNzYzLCA0OS40NTE3MDNdLCBbOC42OTI5ODcsIDQ5LjQ1MTY4Nl0sIFs4LjY5MzQ2NCwgNDkuNDUxNTE0XSwgWzguNjkzOTI5LCA0OS40NTEyOV0sIFs4LjY5NDU4NSwgNDkuNDUxMDQyXSwgWzguNjk0OTI1LCA0OS40NTA5ODRdLCBbOC42OTUyMTQsIDQ5LjQ1MDk2NF0sIFs4LjY5NTcyMiwgNDkuNDUwODUzXSwgWzguNjk2MTY5LCA0OS40NTA4NjZdLCBbOC42OTYzMiwgNDkuNDUwODVdLCBbOC42OTY0OTQsIDQ5LjQ1MDgwM10sIFs4LjY5NjY2MSwgNDkuNDUwNzAzXSwgWzguNjk2OTA3LCA0OS40NTA0ODJdLCBbOC42OTcwNTEsIDQ5LjQ1MDQ0XSwgWzguNjk3MTc0LCA0OS40NTA0NDZdLCBbOC42OTczNTksIDQ5LjQ1MDQ5OF0sIFs4LjY5NzY0LCA0OS40NTA1NDFdLCBbOC42OTc4OTEsIDQ5LjQ1MDU2XSwgWzguNjk3OTk2LCA0OS40NTA1NjhdLCBbOC42OTgwNDcsIDQ5LjQ1MDU3MV0sIFs4LjY5ODMyMSwgNDkuNDUwNTY4XSwgWzguNjk4NDcsIDQ5LjQ1MDYxMl0sIFs4LjY5ODU0MiwgNDkuNDUwNzUxXSwgWzguNjk4NjU5LCA0OS40NTA4ODVdLCBbOC42OTg4ODUsIDQ5LjQ1MDgxMl0sIFs4LjY5OTE5MSwgNDkuNDUwNzk1XSwgWzguNjk5NSwgNDkuNDUwODA1XSwgWzguNjk5NzcsIDQ5LjQ1MDc2Nl0sIFs4LjcwMDEwNiwgNDkuNDUwNjY1XSwgWzguNzAwNTk0LCA0OS40NTA1NzJdLCBbOC43MDEzMjcsIDQ5LjQ1MDU0XSwgWzguNzAxNTk1LCA0OS40NTA0ODRdLCBbOC43MDIxNjMsIDQ5LjQ1MDQwNl0sIFs4LjcwMzY4MSwgNDkuNDUwMzA4XSwgWzguNzA0MzA3LCA0OS40NTAyMzFdLCBbOC43MDQ2OTEsIDQ5LjQ1MDIxNF0sIFs4LjcwNTUzNSwgNDkuNDUwM10sIFs4LjcwNjIxOCwgNDkuNDUwNTUxXSwgWzguNzA2NTIyLCA0OS40NTA2NjVdLCBbOC43MDY2MywgNDkuNDUwODE1XSwgWzguNzA3MzI2LCA0OS40NTEwMDFdLCBbOC43MDc2ODUsIDQ5LjQ1MTE1Nl0sIFs4LjcwODA5NCwgNDkuNDUxMjkxXSwgWzguNzA4NTA1LCA0OS40NTE0MDVdLCBbOC43MDg4OTEsIDQ5LjQ1MTQ2M10sIFs4LjcwOTI2LCA0OS40NTE1MjRdLCBbOC43MDk0OTcsIDQ5LjQ1MTYxN10sIFs4LjcwOTY4OSwgNDkuNDUxNzM1XSwgWzguNzA5ODk4LCA0OS40NTE5OTFdLCBbOC43MDk5NjMsIDQ5LjQ1MjA2OV0sIFs4LjcxMDExLCA0OS40NTIyMTVdLCBbOC43MTAzNTYsIDQ5LjQ1MjUwMV0sIFs4LjcxMDQ0LCA0OS40NTI2ODddLCBbOC43MTA0NDMsIDQ5LjQ1Mjk2NF0sIFs4LjcxMDQxMiwgNDkuNDUzMjQ5XSwgWzguNzEwMjg4LCA0OS40NTM1NzZdLCBbOC43MTAwMjYsIDQ5LjQ1MzgxOF0sIFs4LjcwOTA5NywgNDkuNDU0NTc3XSwgWzguNzA4OTk2LCA0OS40NTQ3NzJdLCBbOC43MDksIDQ5LjQ1NDk1NV0sIFs4LjcwOTEyNCwgNDkuNDU1MTczXSwgWzguNzA5MzczLCA0OS40NTUxMTRdLCBbOC43MDk1MTIsIDQ5LjQ1NTA3Ml0sIFs4LjcwOTY1MiwgNDkuNDU1MDA5XSwgWzguNzA5NzgxLCA0OS40NTQ5ODFdLCBbOC43MDk5ODQsIDQ5LjQ1NDk2N10sIFs4LjcxMDIxLCA0OS40NTQ5ODhdLCBbOC43MTEwNjgsIDQ5LjQ1NDk4MV0sIFs4LjcxMTQ3NSwgNDkuNDU0OTkxXSwgWzguNzExNzA3LCA0OS40NTQ5NjldLCBbOC43MTE3OTQsIDQ5LjQ1NDk1NV0sIFs4LjcxMTY1MywgNDkuNDU1MjJdLCBbOC43MTE1OTksIDQ5LjQ1NTMyM10sIFs4LjcxMTgwMywgNDkuNDU1NTM3XSwgWzguNzEyNTY0LCA0OS40NTU1ODddLCBbOC43MTMxOTcsIDQ5LjQ1NTczMl0sIFs4LjcxMzk0MSwgNDkuNDU1OTA5XSwgWzguNzE0MTYxLCA0OS40NTU5NTddLCBbOC43MTQ0MzQsIDQ5LjQ1NjAzMV0sIFs4LjcxNDYwNSwgNDkuNDU2MDQ1XSwgWzguNzE0NzgzLCA0OS40NTU5NzldLCBbOC43MTQ5NjcsIDQ5LjQ1NTgzNF0sIFs4LjcxNTA2OSwgNDkuNDU1NjE1XSwgWzguNzE1MTQ2LCA0OS40NTUzMjJdLCBbOC43MTUyMzcsIDQ5LjQ1NTA3Nl0sIFs4LjcxNTMyMiwgNDkuNDU1MDg5XSwgWzguNzE1NjI1LCA0OS40NTUwNDNdLCBbOC43MTYyMzUsIDQ5LjQ1NDk4NF0sIFs4LjcxNjMwMSwgNDkuNDU0OTc4XSwgWzguNzE2NTg0LCA0OS40NTQ4OTddLCBbOC43MTY4MDQsIDQ5LjQ1NDg1XSwgWzguNzE3MDAyLCA0OS40NTQ3NTJdLCBbOC43MTczMjQsIDQ5LjQ1NDU3M10sIFs4LjcxNzY5LCA0OS40NTQ1MjVdLCBbOC43MTgwMjgsIDQ5LjQ1NDIxXSwgWzguNzE4NTE1LCA0OS40NTM5ODJdLCBbOC43MTkxNTksIDQ5LjQ1Mzc5N10sIFs4LjcxOTQ4MSwgNDkuNDUzNzc3XSwgWzguNzE5Nzg2LCA0OS40NTM3NThdLCBbOC43MjE1ODIsIDQ5LjQ1Mzc4OF0sIFs4LjcyMjA0NSwgNDkuNDUzNjUzXSwgWzguNzIyNzgyLCA0OS40NTMzMzJdLCBbOC43MjI4ODQsIDQ5LjQ1MzI3NV0sIFs4LjcyMjkwMSwgNDkuNDUzMjcyXSwgWzguNzIzMjc1LCA0OS40NTMyNzNdLCBbOC43MjMzMTUsIDQ5LjQ1MzMxN10sIFs4LjcyMzU2OSwgNDkuNDUzNDI5XSwgWzguNzIzODgzLCA0OS40NTM1NDNdLCBbOC43MjQxOSwgNDkuNDUzNjk3XSwgWzguNzI0NDI3LCA0OS40NTM3OTddLCBbOC43MjQ1NjQsIDQ5LjQ1Mzg1Ml0sIFs4LjcyNDcsIDQ5LjQ1MzkxXSwgWzguNzI0NzcxLCA0OS40NTQwN10sIFs4LjcyNTE3OCwgNDkuNDU0NDM0XSwgWzguNzI1NjQ5LCA0OS40NTQ2NTldLCBbOC43MjYzMDUsIDQ5LjQ1NDgyOV0sIFs4LjcyNjg4OCwgNDkuNDU0OTA1XSwgWzguNzI3NDkxLCA0OS40NTQ5MjZdLCBbOC43Mjg0NTksIDQ5LjQ1NTA2OF0sIFs4LjcyOTE5NCwgNDkuNDU1MTk3XSwgWzguNzI5NTQ0LCA0OS40NTUyNjZdLCBbOC43Mjk5NTIsIDQ5LjQ1NTMxMl0sIFs4LjczMDY5MywgNDkuNDU1MzY2XSwgWzguNzMxNTY0LCA0OS40NTU0NzJdLCBbOC43MzIxMjksIDQ5LjQ1NTc1Nl0sIFs4LjczMjYxMiwgNDkuNDU1ODY3XSwgWzguNzMzNjY0LCA0OS40NTYxNDldLCBbOC43MzQ4MDEsIDQ5LjQ1NjQxXSwgWzguNzM1NzgzLCA0OS40NTY2ODddLCBbOC43MzYyNywgNDkuNDU2ODQ3XSwgWzguNzM2ODg5LCA0OS40NTcwMjFdLCBbOC43MzY5NzksIDQ5LjQ1NzA1XSwgWzguNzM3MDk4LCA0OS40NTcwOTddLCBbOC43Mzc3NDEsIDQ5LjQ1NzI3MV0sIFs4LjczODYyNywgNDkuNDU3NDM1XSwgWzguNzM5MjA4LCA0OS40NTc1MDNdLCBbOC43Mzk2OSwgNDkuNDU3NTEzXSwgWzguNzM5NDE0LCA0OS40NTc2MzddLCBbOC43MzkwOTksIDQ5LjQ1Nzc0NF0sIFs4LjczODc2NSwgNDkuNDU3ODAyXSwgWzguNzM4NDEyLCA0OS40NTc4NDFdLCBbOC43MzgwNzMsIDQ5LjQ1NzkyNl0sIFs4LjczNzc5NywgNDkuNDU4MDI1XSwgWzguNzM2ODg0LCA0OS40NTgxNTVdLCBbOC43MzQ3OTEsIDQ5LjQ1ODY4N10sIFs4LjczNDQ1LCA0OS40NTg2OTFdLCBbOC43MzM0ODYsIDQ5LjQ1ODYyXSwgWzguNzMyMDQ5LCA0OS40NTg0Nl0sIFs4LjczMTM3MSwgNDkuNDU4NDA2XSwgWzguNzMxNDgzLCA0OS40NTg1ODRdLCBbOC43MzE2MTIsIDQ5LjQ1ODc5XSwgWzguNzMxNjI1LCA0OS40NTkwNF0sIFs4LjczMTcwMiwgNDkuNDU5MzIyXSwgWzguNzMxODMyLCA0OS40NTk2MV0sIFs4LjczMTk4MiwgNDkuNDU5ODFdLCBbOC43MzIzMTIsIDQ5LjQ1OTgyMV0sIFs4LjczMjg4NywgNDkuNDU5Njk0XSwgWzguNzMzNzM0LCA0OS40NTk2ODddLCBbOC43MzQyNzcsIDQ5LjQ1OTY0N10sIFs4LjczNDgyMSwgNDkuNDU5NTM4XSwgWzguNzM1Mjk3LCA0OS40NTk0OTJdLCBbOC43MzU4NjUsIDQ5LjQ1OTQwOV0sIFs4LjczNjMyNiwgNDkuNDU5MjY3XSwgWzguNzM2NTQ2LCA0OS40NTkyMThdLCBbOC43MzcxNjIsIDQ5LjQ1OTEzNl0sIFs4LjczNzU0NiwgNDkuNDU5MTc1XSwgWzguNzM4NTkyLCA0OS40NTkxNV0sIFs4LjczOTI5OCwgNDkuNDU5MDQ1XSwgWzguNzQwMDIsIDQ5LjQ1ODg5NF0sIFs4Ljc0MDI0OSwgNDkuNDU4ODU5XSwgWzguNzQwNTEsIDQ5LjQ1ODg4Nl0sIFs4Ljc0MDc0LCA0OS40NTg5NTddLCBbOC43NDA4NjQsIDQ5LjQ1OTAzMV0sIFs4Ljc0MDkyOCwgNDkuNDU5MTI0XSwgWzguNzQxMjIsIDQ5LjQ1OTQxOF0sIFs4Ljc0MTM2OSwgNDkuNDU5NjI2XSwgWzguNzQxNDE5LCA0OS40NTk3OTNdLCBbOC43NDEyNTgsIDQ5LjQ1OTk0N10sIFs4Ljc0MDkzMiwgNDkuNDYwNDIzXSwgWzguNzQwNzIzLCA0OS40NjA5NTJdLCBbOC43NDA2NzYsIDQ5LjQ2MTMyOV0sIFs4Ljc0MDY4OCwgNDkuNDYxNjQxXSwgWzguNzQwODg0LCA0OS40NjI1MDRdLCBbOC43NDEwMjUsIDQ5LjQ2Mjg1OV0sIFs4Ljc0MTM2NywgNDkuNDYzMjQ0XSwgWzguNzQyMDE2LCA0OS40NjM1NV0sIFs4Ljc0MjgzNiwgNDkuNDYzNjY2XSwgWzguNzQzNjE5LCA0OS40NjM1NDRdLCBbOC43NDQ1NDksIDQ5LjQ2MzE3MV0sIFs4Ljc0NTU4MywgNDkuNDYzMDI0XSwgWzguNzQ2ODI1LCA0OS40NjMwMDZdLCBbOC43NDcwNjIsIDQ5LjQ2MzA1OF0sIFs4Ljc0NzIyMywgNDkuNDYzMTMzXSwgWzguNzQ3MzMzLCA0OS40NjMyNTNdLCBbOC43NDczOTIsIDQ5LjQ2MzM4OV0sIFs4Ljc0NzQwMSwgNDkuNDYzNTk4XSwgWzguNzQ3Mzc2LCA0OS40NjM3ODhdLCBbOC43NDczMTcsIDQ5LjQ2Mzk4N10sIFs4Ljc0NzA0NSwgNDkuNDY0Mjk4XSwgWzguNzQ2NTIxLCA0OS40NjQ5MThdLCBbOC43NDY0OTksIDQ5LjQ2NTA0OV0sIFs4Ljc0NjYsIDQ5LjQ2NTM1M10sIFs4Ljc0NjUzOSwgNDkuNDY1NDQ3XSwgWzguNzQ2NDM0LCA0OS40NjU1MDZdLCBbOC43NDYzNywgNDkuNDY1NzI1XSwgWzguNzQ2MzA4LCA0OS40NjU5OV0sIFs4Ljc0NjMxMiwgNDkuNDY2MTUyXSwgWzguNzQ2NDcsIDQ5LjQ2Njg2M10sIFs4Ljc0NjQ5MSwgNDkuNDY3MjE3XSwgWzguNzQ2NDc0LCA0OS40NjczNjFdLCBbOC43NDY0MTgsIDQ5LjQ2NzQ2M10sIFs4Ljc0NjMwMiwgNDkuNDY3NTU1XSwgWzguNzQ2MTY0LCA0OS40Njc2NF0sIFs4Ljc0NjAyMiwgNDkuNDY3NzQ4XSwgWzguNzQ1OTA5LCA0OS40Njc4ODNdLCBbOC43NDU4OTgsIDQ5LjQ2OF0sIFs4Ljc0NTk2LCA0OS40NjgxNDldLCBbOC43NDYxMDMsIDQ5LjQ2ODI1NF0sIFs4Ljc0NjE4NCwgNDkuNDY4MjgzXSwgWzguNzQ2NjM1LCA0OS40NjgzNzVdLCBbOC43NDY4OTEsIDQ5LjQ2ODQ1NV0sIFs4Ljc0NzEzNSwgNDkuNDY4NTU0XSwgWzguNzQ4MDQ2LCA0OS40NjkxMDZdLCBbOC43NDgyMTMsIDQ5LjQ2OTE3M10sIFs4Ljc0ODUsIDQ5LjQ2OTIyMV0sIFs4Ljc0ODkyLCA0OS40NjkyMDhdLCBbOC43NDk4LCA0OS40NjkwOTJdLCBbOC43NTAxODUsIDQ5LjQ2OTA2NF0sIFs4Ljc1MDQ5MSwgNDkuNDY5MDgxXSwgWzguNzUwNjU2LCA0OS40NjkzNjNdLCBbOC43NTA3NzMsIDQ5LjQ2OTU4OF0sIFs4Ljc1MDkzOSwgNDkuNDcwMDA4XSwgWzguNzUwOTQyLCA0OS40NzAyMTZdLCBbOC43NTA4OTIsIDQ5LjQ3MDMzXSwgWzguNzUwNzk4LCA0OS40NzA0OTJdLCBbOC43NDk4MTEsIDQ5LjQ3MTIxOV0sIFs4Ljc0OTIzNSwgNDkuNDcxNjc1XSwgWzguNzQ4OTMzLCA0OS40NzIxMjJdLCBbOC43NDg4MjEsIDQ5LjQ3MjI3Nl0sIFs4Ljc0ODY3MSwgNDkuNDcyNTA0XSwgWzguNzQ4NTA4LCA0OS40NzI4MTddLCBbOC43NDg0NzUsIDQ5LjQ3MzA3N10sIFs4Ljc0ODUwMiwgNDkuNDc0MTQzXSwgWzguNzQ4NDM1LCA0OS40NzQzODNdLCBbOC43NDgxNTMsIDQ5LjQ3NDgwN10sIFs4Ljc0NzczMywgNDkuNDc1MTUzXSwgWzguNzQ3Mjc2LCA0OS40NzU4NV0sIFs4Ljc0Njg2MiwgNDkuNDc2MjldLCBbOC43NDYzMzgsIDQ5LjQ3NjcyMl0sIFs4Ljc0NjA2NCwgNDkuNDc2ODI3XSwgWzguNzQ1MzkzLCA0OS40NzcwNDFdLCBbOC43NDUxNjMsIDQ5LjQ3NzIyNV0sIFs4Ljc0NTA3NiwgNDkuNDc3NDI1XSwgWzguNzQ1MDE1LCA0OS40Nzc2NTZdLCBbOC43NDQ5MDEsIDQ5LjQ3Nzg3MV0sIFs4Ljc0NDczMywgNDkuNDc4MDY3XSwgWzguNzQzNjYyLCA0OS40Nzg4NTNdLCBbOC43NDMzODgsIDQ5LjQ3OTEzXSwgWzguNzQzMzAzLCA0OS40NzkzMTldLCBbOC43NDMyOSwgNDkuNDc5NTQ3XSwgWzguNzQzNDE0LCA0OS40Nzk3MzJdLCBbOC43NDM1NjIsIDQ5LjQ3OTc3OF0sIFs4Ljc0MzY3MiwgNDkuNDc5Nzc2XSwgWzguNzQzNzMxLCA0OS40Nzk3NzVdLCBbOC43NDM4MzksIDQ5LjQ3OTczNl0sIFs4Ljc0MzQ2NSwgNDkuNDgwMDkzXSwgWzguNzQzMTY2LCA0OS40ODAzOTFdLCBbOC43NDI4MjIsIDQ5LjQ4MDgyNV0sIFs4Ljc0MjYxMiwgNDkuNDgxMDA0XSwgWzguNzQyMzQxLCA0OS40ODExNDldLCBbOC43NDIwMzksIDQ5LjQ4MTI0Ml0sIFs4Ljc0MTg3NCwgNDkuNDgxMjY4XSwgWzguNzQxNTEyLCA0OS40ODEyNzNdLCBbOC43NDE1MTMsIDQ5LjQ4MTM4OV0sIFs4Ljc0MTM5MSwgNDkuNDgxODExXSwgWzguNzQxMTk2LCA0OS40ODIxNV0sIFs4Ljc0MTEyMSwgNDkuNDgyNDQ5XSwgWzguNzQxMTA3LCA0OS40ODI4NF0sIFs4Ljc0MTEyMiwgNDkuNDgzMThdLCBbOC43NDEwNjIsIDQ5LjQ4MzU1OF0sIFs4Ljc0MTE4MywgNDkuNDgzNjY4XSwgWzguNzQxMDgxLCA0OS40ODQyMDNdLCBbOC43NDA5NiwgNDkuNDg0NDQ1XSwgWzguNzQwOTksIDQ5LjQ4NDcwMl0sIFs4Ljc0MDg4MSwgNDkuNDg0NzU2XSwgWzguNzQwNzAxLCA0OS40ODQ3NTZdLCBbOC43NDA2NTIsIDQ5LjQ4NDc5MV0sIFs4Ljc0MDEzMywgNDkuNDg1MDA4XSwgWzguNzM5ODY4LCA0OS40ODUwNTldLCBbOC43MzkwNjEsIDQ5LjQ4NTM4OF0sIFs4LjczODk5NCwgNDkuNDg1NDY2XSwgWzguNzM4OTcyLCA0OS40ODU1MzNdLCBbOC43MzkwMTksIDQ5LjQ4NTU1NV0sIFs4LjczODc1NSwgNDkuNDg1NzM1XSwgWzguNzM4NTQyLCA0OS40ODU4MThdLCBbOC43Mzg0NDYsIDQ5LjQ4NTg1Nl0sIFs4LjczODE5OSwgNDkuNDg2MDUzXSwgWzguNzM4MDY0LCA0OS40ODYxNThdLCBbOC43Mzc5OTEsIDQ5LjQ4NjI1Ml0sIFs4LjczNzk0NCwgNDkuNDg2MzQ3XSwgWzguNzM3OTUsIDQ5LjQ4NjU5Nl0sIFs4LjczNzk5LCA0OS40ODY2MzddLCBbOC43Mzc5MDUsIDQ5LjQ4NjY4N10sIFs4LjczNzc1NiwgNDkuNDg2NzQ1XSwgWzguNzM3NTkzLCA0OS40ODY4XSwgWzguNzM3NDcxLCA0OS40ODY4NDNdLCBbOC43Mzc0MjUsIDQ5LjQ4Njg1Nl0sIFs4LjczNzI4MSwgNDkuNDg2OV0sIFs4LjczNzEzOCwgNDkuNDg2OTIxXSwgWzguNzM3MTYzLCA0OS40ODcwMDddLCBbOC43Mzc0MTMsIDQ5LjQ4NzI3Nl0sIFs4LjczNzU0NiwgNDkuNDg3NDA5XSwgWzguNzM3NzY5LCA0OS40ODc1NTNdLCBbOC43MzgyOTQsIDQ5LjQ4ODAwNl0sIFs4LjczODc0NCwgNDkuNDg4Mzk0XSwgWzguNzM4NzA1LCA0OS40ODg2ODJdLCBbOC43Mzg3MzIsIDQ5LjQ4ODgxMl0sIFs4LjczODc2OSwgNDkuNDg5MDM4XSwgWzguNzM4NjIsIDQ5LjQ4OTExM10sIFs4LjczODQ4OCwgNDkuNDg5MTE5XSwgWzguNzM3OTAzLCA0OS40ODg3OThdLCBbOC43Mzc3NDgsIDQ5LjQ4ODc3OV0sIFs4LjczNzUzMywgNDkuNDg4Nzc1XSwgWzguNzM3MzYsIDQ5LjQ4ODgwNV0sIFs4LjczNzI0LCA0OS40ODg4NTVdLCBbOC43MzY4MDUsIDQ5LjQ4OTE3Nl0sIFs4LjczNjY2MiwgNDkuNDg5MjYzXSwgWzguNzM2NDg3LCA0OS40ODkyNzddLCBbOC43MzY0MDEsIDQ5LjQ4OTI4NV0sIFs4LjczNjM1MiwgNDkuNDg5NDMxXSwgWzguNzM2NTc5LCA0OS40ODk1MzldLCBbOC43MzY4MDIsIDQ5LjQ4OTU3OF0sIFs4LjczNzA3OCwgNDkuNDg5NjYzXSwgWzguNzM3MjE3LCA0OS40ODk3MzhdLCBbOC43MzcyNDQsIDQ5LjQ4OTg1N10sIFs4LjczNzEwMywgNDkuNDkwMDk3XSwgWzguNzM2ODgzLCA0OS40OTAyNjVdLCBbOC43MzY3MDcsIDQ5LjQ5MDM2MV0sIFs4LjczNjUxNCwgNDkuNDkwNDQ2XSwgWzguNzM2MjAxLCA0OS40OTA1ODFdLCBbOC43MzYwNjYsIDQ5LjQ5MDY2OF0sIFs4LjczNjAxMiwgNDkuNDkwNzIyXSwgWzguNzM1OTg1LCA0OS40OTA3OTVdLCBbOC43MzU5OTgsIDQ5LjQ5MTE0MV0sIFs4LjczNTk2NSwgNDkuNDkxMzVdLCBbOC43MzU4MDgsIDQ5LjQ5MTY1NF0sIFs4LjczNjEzLCA0OS40OTE5NTRdLCBbOC43MzYzMjIsIDQ5LjQ5MjEzOF0sIFs4LjczNjQ0OCwgNDkuNDkyMjQ2XSwgWzguNzM2Nzc5LCA0OS40OTI0OTRdLCBbOC43MzcwMTEsIDQ5LjQ5Mjc2Ml0sIFs4LjczNzA4NiwgNDkuNDkyOTkxXSwgWzguNzM3MDg3LCA0OS40OTMyMTddLCBbOC43MzcwNTQsIDQ5LjQ5MzMwM11dLCAidHlwZSI6ICJMaW5lU3RyaW5nIn0sICJpZCI6ICJmaWQtLTUyMmE3Y2RfMTY0Y2UyOTFmMmRfLTdmNWQiLCAicHJvcGVydGllcyI6IHsiYmJveCI6IFs4LjY3NDQ0MiwgNDkuNDIyMjA3LCA4Ljc1MDk0MiwgNDkuNDkzMzAzXSwgImhpZ2hsaWdodCI6IHt9LCAic2VnbWVudHMiOiBbeyJkaXN0YW5jZSI6IDE2NDI4LjQsICJkdXJhdGlvbiI6IDU0MDYuNywgInN0ZXBzIjogW3siZGlzdGFuY2UiOiA3MS44LCAiZHVyYXRpb24iOiAxNC40LCAiaW5zdHJ1Y3Rpb24iOiAiSGVhZCBub3J0aCBvbiBNYXgtUmVnZXItU3RyYVx1MDBkZmUiLCAibmFtZSI6ICJNYXgtUmVnZXItU3RyYVx1MDBkZmUiLCAidHlwZSI6IDExLCAid2F5X3BvaW50cyI6IFswLCAxXX0sIHsiZGlzdGFuY2UiOiAzNC45LCAiZHVyYXRpb24iOiA3LCAiaW5zdHJ1Y3Rpb24iOiAiQ29udGludWUgc3RyYWlnaHQiLCAibmFtZSI6ICIiLCAidHlwZSI6IDYsICJ3YXlfcG9pbnRzIjogWzEsIDJdfSwgeyJkaXN0YW5jZSI6IDg2LjIsICJkdXJhdGlvbiI6IDI1LjksICJpbnN0cnVjdGlvbiI6ICJUdXJuIHJpZ2h0IiwgIm5hbWUiOiAiIiwgInR5cGUiOiAxLCAid2F5X3BvaW50cyI6IFsyLCAzXX0sIHsiZGlzdGFuY2UiOiAyOC45LCAiZHVyYXRpb24iOiA4LjcsICJpbnN0cnVjdGlvbiI6ICJUdXJuIGxlZnQgb250byBFY2tlbmVyc3RyYVx1MDBkZmUiLCAibmFtZSI6ICJFY2tlbmVyc3RyYVx1MDBkZmUiLCAidHlwZSI6IDAsICJ3YXlfcG9pbnRzIjogWzMsIDRdfSwgeyJkaXN0YW5jZSI6IDU0LjQsICJkdXJhdGlvbiI6IDEwLjksICJpbnN0cnVjdGlvbiI6ICJUdXJuIHJpZ2h0IG9udG8gUmljaGFyZC1XYWduZXItU3RyYVx1MDBkZmUiLCAibmFtZSI6ICJSaWNoYXJkLVdhZ25lci1TdHJhXHUwMGRmZSIsICJ0eXBlIjogMSwgIndheV9wb2ludHMiOiBbNCwgNl19LCB7ImRpc3RhbmNlIjogMjA2LjQsICJkdXJhdGlvbiI6IDM1LjQsICJpbnN0cnVjdGlvbiI6ICJUdXJuIGxlZnQgb250byBQaGlsaXBwLVdvbGZydW0tV2VnIiwgIm5hbWUiOiAiUGhpbGlwcC1Xb2xmcnVtLVdlZyIsICJ0eXBlIjogMCwgIndheV9wb2ludHMiOiBbNiwgOV19LCB7ImRpc3RhbmNlIjogMTM0LjUsICJkdXJhdGlvbiI6IDI5LjgsICJpbnN0cnVjdGlvbiI6ICJUdXJuIHJpZ2h0IiwgIm5hbWUiOiAiIiwgInR5cGUiOiAxLCAid2F5X3BvaW50cyI6IFs5LCAxNF19LCB7ImRpc3RhbmNlIjogMjAuNiwgImR1cmF0aW9uIjogNC4xLCAiaW5zdHJ1Y3Rpb24iOiAiVHVybiBzaGFycCByaWdodCBvbnRvIFJvdHRtYW5uc3RyYVx1MDBkZmUsIEIgMyIsICJuYW1lIjogIlJvdHRtYW5uc3RyYVx1MDBkZmUsIEIgMyIsICJ0eXBlIjogMywgIndheV9wb2ludHMiOiBbMTQsIDE4XX0sIHsiZGlzdGFuY2UiOiAxOTUuOCwgImR1cmF0aW9uIjogMzkuMiwgImluc3RydWN0aW9uIjogIlR1cm4gbGVmdCBvbnRvIEtsYXVzZW5wZmFkIiwgIm5hbWUiOiAiS2xhdXNlbnBmYWQiLCAidHlwZSI6IDAsICJ3YXlfcG9pbnRzIjogWzE4LCAyM119LCB7ImRpc3RhbmNlIjogMTMyLjMsICJkdXJhdGlvbiI6IDI2LjUsICJpbnN0cnVjdGlvbiI6ICJUdXJuIHJpZ2h0IG9udG8gRG9zc2VuaGVpbWVyIExhbmRzdHJhXHUwMGRmZSIsICJuYW1lIjogIkRvc3NlbmhlaW1lciBMYW5kc3RyYVx1MDBkZmUiLCAidHlwZSI6IDEsICJ3YXlfcG9pbnRzIjogWzIzLCAzMl19LCB7ImRpc3RhbmNlIjogMTEyLjgsICJkdXJhdGlvbiI6IDM3LjksICJpbnN0cnVjdGlvbiI6ICJUdXJuIGxlZnQgb250byBBbiBkZXIgVGllZmJ1cmciLCAibmFtZSI6ICJBbiBkZXIgVGllZmJ1cmciLCAidHlwZSI6IDAsICJ3YXlfcG9pbnRzIjogWzMyLCA0MV19LCB7ImRpc3RhbmNlIjogNTQwLjIsICJkdXJhdGlvbiI6IDk0LCAiaW5zdHJ1Y3Rpb24iOiAiVHVybiByaWdodCBvbnRvIEJ1cmdzdHJhXHUwMGRmZSIsICJuYW1lIjogIkJ1cmdzdHJhXHUwMGRmZSIsICJ0eXBlIjogMSwgIndheV9wb2ludHMiOiBbNDEsIDU3XX0sIHsiZGlzdGFuY2UiOiA0NC41LCAiZHVyYXRpb24iOiA4LjksICJpbnN0cnVjdGlvbiI6ICJUdXJuIGxlZnQgb250byBCdXJnc3RyYVx1MDBkZmUiLCAibmFtZSI6ICJCdXJnc3RyYVx1MDBkZmUiLCAidHlwZSI6IDAsICJ3YXlfcG9pbnRzIjogWzU3LCA2NF19LCB7ImRpc3RhbmNlIjogODYuOSwgImR1cmF0aW9uIjogMTcuNCwgImluc3RydWN0aW9uIjogIlR1cm4gcmlnaHQgb250byBEZXJ3ZWluc3RyYVx1MDBkZmUiLCAibmFtZSI6ICJEZXJ3ZWluc3RyYVx1MDBkZmUiLCAidHlwZSI6IDEsICJ3YXlfcG9pbnRzIjogWzY0LCA2N119LCB7ImRpc3RhbmNlIjogMTAwOS4zLCAiZHVyYXRpb24iOiAyMTMuMywgImluc3RydWN0aW9uIjogIlR1cm4gbGVmdCBvbnRvIERvc3NlbmhlaW1lciBXZWciLCAibmFtZSI6ICJEb3NzZW5oZWltZXIgV2VnIiwgInR5cGUiOiAwLCAid2F5X3BvaW50cyI6IFs2NywgODddfSwgeyJkaXN0YW5jZSI6IDM3OC4yLCAiZHVyYXRpb24iOiA3NS42LCAiaW5zdHJ1Y3Rpb24iOiAiVHVybiBsZWZ0IiwgIm5hbWUiOiAiIiwgInR5cGUiOiAwLCAid2F5X3BvaW50cyI6IFs4NywgOTJdfSwgeyJkaXN0YW5jZSI6IDQwNi42LCAiZHVyYXRpb24iOiAxMzYuOSwgImluc3RydWN0aW9uIjogIkNvbnRpbnVlIHN0cmFpZ2h0IG9udG8gS2lyY2hzdHJhXHUwMGRmZSIsICJuYW1lIjogIktpcmNoc3RyYVx1MDBkZmUiLCAidHlwZSI6IDYsICJ3YXlfcG9pbnRzIjogWzkyLCAxMDBdfSwgeyJkaXN0YW5jZSI6IDE0MS40LCAiZHVyYXRpb24iOiAzOC4xLCAiaW5zdHJ1Y3Rpb24iOiAiVHVybiByaWdodCBvbnRvIFNjaGxcdTAwZmNzc2Vsd2VnIiwgIm5hbWUiOiAiU2NobFx1MDBmY3NzZWx3ZWciLCAidHlwZSI6IDEsICJ3YXlfcG9pbnRzIjogWzEwMCwgMTA4XX0sIHsiZGlzdGFuY2UiOiAxMjguNiwgImR1cmF0aW9uIjogMzguNiwgImluc3RydWN0aW9uIjogIlR1cm4gbGVmdCBvbnRvIEhlaWRlbGJlcmdlciBTdHJhXHUwMGRmZSIsICJuYW1lIjogIkhlaWRlbGJlcmdlciBTdHJhXHUwMGRmZSIsICJ0eXBlIjogMCwgIndheV9wb2ludHMiOiBbMTA4LCAxMDldfSwgeyJkaXN0YW5jZSI6IDE0Ny4zLCAiZHVyYXRpb24iOiA0Ny45LCAiaW5zdHJ1Y3Rpb24iOiAiVHVybiByaWdodCBvbnRvIFdpbGhlbG1zdHJhXHUwMGRmZSIsICJuYW1lIjogIldpbGhlbG1zdHJhXHUwMGRmZSIsICJ0eXBlIjogMSwgIndheV9wb2ludHMiOiBbMTA5LCAxMTRdfSwgeyJkaXN0YW5jZSI6IDczLjcsICJkdXJhdGlvbiI6IDE0LjcsICJpbnN0cnVjdGlvbiI6ICJUdXJuIGxlZnQgb250byBTY2h1bHN0cmFcdTAwZGZlIiwgIm5hbWUiOiAiU2NodWxzdHJhXHUwMGRmZSIsICJ0eXBlIjogMCwgIndheV9wb2ludHMiOiBbMTE0LCAxMTZdfSwgeyJkaXN0YW5jZSI6IDk0LjIsICJkdXJhdGlvbiI6IDE4LjgsICJpbnN0cnVjdGlvbiI6ICJUdXJuIHJpZ2h0IG9udG8gT2JlcmUgU2NodWxzdHJhXHUwMGRmZSIsICJuYW1lIjogIk9iZXJlIFNjaHVsc3RyYVx1MDBkZmUiLCAidHlwZSI6IDEsICJ3YXlfcG9pbnRzIjogWzExNiwgMTIzXX0sIHsiZGlzdGFuY2UiOiAxODQuNSwgImR1cmF0aW9uIjogNzMuNywgImluc3RydWN0aW9uIjogIlR1cm4gcmlnaHQgb250byBIYXVwdHN0cmFcdTAwZGZlIiwgIm5hbWUiOiAiSGF1cHRzdHJhXHUwMGRmZSIsICJ0eXBlIjogMSwgIndheV9wb2ludHMiOiBbMTIzLCAxMzBdfSwgeyJkaXN0YW5jZSI6IDQ2MS42LCAiZHVyYXRpb24iOiAzMjYuNywgImluc3RydWN0aW9uIjogIkNvbnRpbnVlIHNsaWdodCBsZWZ0IG9udG8gVGFsc3RyYVx1MDBkZmUiLCAibmFtZSI6ICJUYWxzdHJhXHUwMGRmZSIsICJ0eXBlIjogNCwgIndheV9wb2ludHMiOiBbMTMwLCAxMzldfSwgeyJkaXN0YW5jZSI6IDIxLjYsICJkdXJhdGlvbiI6IDQuMywgImluc3RydWN0aW9uIjogIlR1cm4gc2xpZ2h0IHJpZ2h0IG9udG8gVGFsc3RyYVx1MDBkZmUiLCAibmFtZSI6ICJUYWxzdHJhXHUwMGRmZSIsICJ0eXBlIjogNSwgIndheV9wb2ludHMiOiBbMTM5LCAxNDRdfSwgeyJkaXN0YW5jZSI6IDIzNy44LCAiZHVyYXRpb24iOiA4NS42LCAiaW5zdHJ1Y3Rpb24iOiAiVHVybiBzaGFycCBsZWZ0IG9udG8gVGFsc3RyYVx1MDBkZmUiLCAibmFtZSI6ICJUYWxzdHJhXHUwMGRmZSIsICJ0eXBlIjogMiwgIndheV9wb2ludHMiOiBbMTQ0LCAxNTBdfSwgeyJkaXN0YW5jZSI6IDYwMi4zLCAiZHVyYXRpb24iOiA2NzAsICJpbnN0cnVjdGlvbiI6ICJUdXJuIHNsaWdodCByaWdodCIsICJuYW1lIjogIiIsICJ0eXBlIjogNSwgIndheV9wb2ludHMiOiBbMTUwLCAxNzRdfSwgeyJkaXN0YW5jZSI6IDM1LjMsICJkdXJhdGlvbiI6IDEwLjYsICJpbnN0cnVjdGlvbiI6ICJUdXJuIHNsaWdodCByaWdodCIsICJuYW1lIjogIiIsICJ0eXBlIjogNSwgIndheV9wb2ludHMiOiBbMTc0LCAxNzddfSwgeyJkaXN0YW5jZSI6IDMzLjQsICJkdXJhdGlvbiI6IDEwLCAiaW5zdHJ1Y3Rpb24iOiAiVHVybiBsZWZ0IiwgIm5hbWUiOiAiIiwgInR5cGUiOiAwLCAid2F5X3BvaW50cyI6IFsxNzcsIDE3OV19LCB7ImRpc3RhbmNlIjogMjE5LjgsICJkdXJhdGlvbiI6IDc5LjEsICJpbnN0cnVjdGlvbiI6ICJUdXJuIHJpZ2h0IiwgIm5hbWUiOiAiIiwgInR5cGUiOiAxLCAid2F5X3BvaW50cyI6IFsxNzksIDE4N119LCB7ImRpc3RhbmNlIjogMzcwLCAiZHVyYXRpb24iOiAxMzMuMiwgImluc3RydWN0aW9uIjogIlR1cm4gc2xpZ2h0IHJpZ2h0IiwgIm5hbWUiOiAiIiwgInR5cGUiOiA1LCAid2F5X3BvaW50cyI6IFsxODcsIDE5NF19LCB7ImRpc3RhbmNlIjogMTguNCwgImR1cmF0aW9uIjogMTEsICJpbnN0cnVjdGlvbiI6ICJUdXJuIHNsaWdodCBsZWZ0IG9udG8gU2Fja3dlZyIsICJuYW1lIjogIlNhY2t3ZWciLCAidHlwZSI6IDQsICJ3YXlfcG9pbnRzIjogWzE5NCwgMTk1XX0sIHsiZGlzdGFuY2UiOiAyMDcuMiwgImR1cmF0aW9uIjogNzQuNiwgImluc3RydWN0aW9uIjogIlR1cm4gc2xpZ2h0IHJpZ2h0IiwgIm5hbWUiOiAiIiwgInR5cGUiOiA1LCAid2F5X3BvaW50cyI6IFsxOTUsIDIwMV19LCB7ImRpc3RhbmNlIjogNDY4LjgsICJkdXJhdGlvbiI6IDIzOS40LCAiaW5zdHJ1Y3Rpb24iOiAiVHVybiBzbGlnaHQgbGVmdCBvbnRvIEhhdXB0d2VnIiwgIm5hbWUiOiAiSGF1cHR3ZWciLCAidHlwZSI6IDQsICJ3YXlfcG9pbnRzIjogWzIwMSwgMjE2XX0sIHsiZGlzdGFuY2UiOiAxOTguNSwgImR1cmF0aW9uIjogNzEuNSwgImluc3RydWN0aW9uIjogIlR1cm4gcmlnaHQiLCAibmFtZSI6ICIiLCAidHlwZSI6IDEsICJ3YXlfcG9pbnRzIjogWzIxNiwgMjI2XX0sIHsiZGlzdGFuY2UiOiA0My4zLCAiZHVyYXRpb24iOiA5LjcsICJpbnN0cnVjdGlvbiI6ICJUdXJuIHNoYXJwIGxlZnQiLCAibmFtZSI6ICIiLCAidHlwZSI6IDIsICJ3YXlfcG9pbnRzIjogWzIyNiwgMjI4XX0sIHsiZGlzdGFuY2UiOiAyOCwgImR1cmF0aW9uIjogNi4zLCAiaW5zdHJ1Y3Rpb24iOiAiVHVybiByaWdodCIsICJuYW1lIjogIiIsICJ0eXBlIjogMSwgIndheV9wb2ludHMiOiBbMjI4LCAyMjldfSwgeyJkaXN0YW5jZSI6IDIxMS43LCAiZHVyYXRpb24iOiAxMDYuOCwgImluc3RydWN0aW9uIjogIlR1cm4gcmlnaHQgb250byBIYXVwdHdlZyIsICJuYW1lIjogIkhhdXB0d2VnIiwgInR5cGUiOiAxLCAid2F5X3BvaW50cyI6IFsyMjksIDIzNV19LCB7ImRpc3RhbmNlIjogMTIyLjMsICJkdXJhdGlvbiI6IDExMC4xLCAiaW5zdHJ1Y3Rpb24iOiAiVHVybiBzbGlnaHQgcmlnaHQgb250byBIYXVwdHdlZyIsICJuYW1lIjogIkhhdXB0d2VnIiwgInR5cGUiOiA1LCAid2F5X3BvaW50cyI6IFsyMzUsIDI0MF19LCB7ImRpc3RhbmNlIjogMTE3LjMsICJkdXJhdGlvbiI6IDgyLjEsICJpbnN0cnVjdGlvbiI6ICJUdXJuIGxlZnQiLCAibmFtZSI6ICIiLCAidHlwZSI6IDAsICJ3YXlfcG9pbnRzIjogWzI0MCwgMjQ2XX0sIHsiZGlzdGFuY2UiOiA1MjYuOCwgImR1cmF0aW9uIjogMTg5LjYsICJpbnN0cnVjdGlvbiI6ICJUdXJuIHNsaWdodCByaWdodCBvbnRvIE9iZXJlciBEYXJtdXRod2VnIiwgIm5hbWUiOiAiT2JlcmVyIERhcm11dGh3ZWciLCAidHlwZSI6IDUsICJ3YXlfcG9pbnRzIjogWzI0NiwgMjYwXX0sIHsiZGlzdGFuY2UiOiAxMTMuOSwgImR1cmF0aW9uIjogMTIuNSwgImluc3RydWN0aW9uIjogIlR1cm4gbGVmdCIsICJuYW1lIjogIiIsICJ0eXBlIjogMCwgIndheV9wb2ludHMiOiBbMjYwLCAyNjZdfSwgeyJkaXN0YW5jZSI6IDExLjgsICJkdXJhdGlvbiI6IDMuNSwgImluc3RydWN0aW9uIjogIkNvbnRpbnVlIHN0cmFpZ2h0IiwgIm5hbWUiOiAiIiwgInR5cGUiOiA2LCAid2F5X3BvaW50cyI6IFsyNjYsIDI2N119LCB7ImRpc3RhbmNlIjogNDAxLjgsICJkdXJhdGlvbiI6IDU0LjksICJpbnN0cnVjdGlvbiI6ICJUdXJuIHNsaWdodCBsZWZ0IiwgIm5hbWUiOiAiIiwgInR5cGUiOiA0LCAid2F5X3BvaW50cyI6IFsyNjcsIDI3Nl19LCB7ImRpc3RhbmNlIjogNzgzLjQsICJkdXJhdGlvbiI6IDEyMS4xLCAiaW5zdHJ1Y3Rpb24iOiAiQ29udGludWUgc3RyYWlnaHQgb250byBWb2dlbGhlcmRyXHUwMGZjY2tlbndlZyIsICJuYW1lIjogIlZvZ2VsaGVyZHJcdTAwZmNja2Vud2VnIiwgInR5cGUiOiA2LCAid2F5X3BvaW50cyI6IFsyNzYsIDI5Ml19LCB7ImRpc3RhbmNlIjogNjI5LjQsICJkdXJhdGlvbiI6IDExMy4zLCAiaW5zdHJ1Y3Rpb24iOiAiVHVybiBzaGFycCBsZWZ0IG9udG8gT2JlcmVyIFNjaG9ybnN0ZWlud2VnIiwgIm5hbWUiOiAiT2JlcmVyIFNjaG9ybnN0ZWlud2VnIiwgInR5cGUiOiAyLCAid2F5X3BvaW50cyI6IFsyOTIsIDMwNF19LCB7ImRpc3RhbmNlIjogMTYzLjksICJkdXJhdGlvbiI6IDM2LjUsICJpbnN0cnVjdGlvbiI6ICJUdXJuIHNoYXJwIHJpZ2h0IiwgIm5hbWUiOiAiIiwgInR5cGUiOiAzLCAid2F5X3BvaW50cyI6IFszMDQsIDMxMF19LCB7ImRpc3RhbmNlIjogNjc0LjYsICJkdXJhdGlvbiI6IDEzNy4zLCAiaW5zdHJ1Y3Rpb24iOiAiVHVybiByaWdodCIsICJuYW1lIjogIiIsICJ0eXBlIjogMSwgIndheV9wb2ludHMiOiBbMzEwLCAzMjldfSwgeyJkaXN0YW5jZSI6IDEwMzkuNCwgImR1cmF0aW9uIjogMjA3LjksICJpbnN0cnVjdGlvbiI6ICJUdXJuIHNsaWdodCBsZWZ0IiwgIm5hbWUiOiAiIiwgInR5cGUiOiA0LCAid2F5X3BvaW50cyI6IFszMjksIDM1M119LCB7ImRpc3RhbmNlIjogMTg5LCAiZHVyYXRpb24iOiAyNC4zLCAiaW5zdHJ1Y3Rpb24iOiAiVHVybiBzbGlnaHQgbGVmdCIsICJuYW1lIjogIiIsICJ0eXBlIjogNCwgIndheV9wb2ludHMiOiBbMzUzLCAzNTldfSwgeyJkaXN0YW5jZSI6IDI0NywgImR1cmF0aW9uIjogNDkuNCwgImluc3RydWN0aW9uIjogIlR1cm4gc2xpZ2h0IHJpZ2h0IG9udG8gTCA1MzYiLCAibmFtZSI6ICJMIDUzNiIsICJ0eXBlIjogNSwgIndheV9wb2ludHMiOiBbMzU5LCAzNjhdfSwgeyJkaXN0YW5jZSI6IDQzMiwgImR1cmF0aW9uIjogODYuNCwgImluc3RydWN0aW9uIjogIkNvbnRpbnVlIHN0cmFpZ2h0IG9udG8gTCA1MzYiLCAibmFtZSI6ICJMIDUzNiIsICJ0eXBlIjogNiwgIndheV9wb2ludHMiOiBbMzY4LCAzODRdfSwgeyJkaXN0YW5jZSI6IDMzLjYsICJkdXJhdGlvbiI6IDYuNywgImluc3RydWN0aW9uIjogIlR1cm4gbGVmdCIsICJuYW1lIjogIiIsICJ0eXBlIjogMCwgIndheV9wb2ludHMiOiBbMzg0LCAzODVdfSwgeyJkaXN0YW5jZSI6IDEzNTYuNiwgImR1cmF0aW9uIjogMjYwLjUsICJpbnN0cnVjdGlvbiI6ICJDb250aW51ZSBzdHJhaWdodCIsICJuYW1lIjogIiIsICJ0eXBlIjogNiwgIndheV9wb2ludHMiOiBbMzg1LCA0MTddfSwgeyJkaXN0YW5jZSI6IDIxLjEsICJkdXJhdGlvbiI6IDQuOCwgImluc3RydWN0aW9uIjogIlR1cm4gc2xpZ2h0IHJpZ2h0IiwgIm5hbWUiOiAiIiwgInR5cGUiOiA1LCAid2F5X3BvaW50cyI6IFs0MTcsIDQyMF19LCB7ImRpc3RhbmNlIjogMjU0LjgsICJkdXJhdGlvbiI6IDMwLjYsICJpbnN0cnVjdGlvbiI6ICJUdXJuIHNoYXJwIGxlZnQiLCAibmFtZSI6ICIiLCAidHlwZSI6IDIsICJ3YXlfcG9pbnRzIjogWzQyMCwgNDI4XX0sIHsiZGlzdGFuY2UiOiAyNTguMiwgImR1cmF0aW9uIjogMTU0LjksICJpbnN0cnVjdGlvbiI6ICJUdXJuIHJpZ2h0IiwgIm5hbWUiOiAiIiwgInR5cGUiOiAxLCAid2F5X3BvaW50cyI6IFs0MjgsIDQzNV19LCB7ImRpc3RhbmNlIjogMTU0LjgsICJkdXJhdGlvbiI6IDI3LjksICJpbnN0cnVjdGlvbiI6ICJUdXJuIHNsaWdodCByaWdodCIsICJuYW1lIjogIiIsICJ0eXBlIjogNSwgIndheV9wb2ludHMiOiBbNDM1LCA0NDFdfSwgeyJkaXN0YW5jZSI6IDE2MC40LCAiZHVyYXRpb24iOiAzMiwgImluc3RydWN0aW9uIjogIkNvbnRpbnVlIHJpZ2h0IG9udG8gSFx1MDBlNHJ0d2VnIiwgIm5hbWUiOiAiSFx1MDBlNHJ0d2VnIiwgInR5cGUiOiAxLCAid2F5X3BvaW50cyI6IFs0NDEsIDQ0OF19LCB7ImRpc3RhbmNlIjogMjcuNiwgImR1cmF0aW9uIjogNS41LCAiaW5zdHJ1Y3Rpb24iOiAiVHVybiBsZWZ0IG9udG8gSFx1MDBlNHJ0d2VnIiwgIm5hbWUiOiAiSFx1MDBlNHJ0d2VnIiwgInR5cGUiOiAwLCAid2F5X3BvaW50cyI6IFs0NDgsIDQ0OV19LCB7ImRpc3RhbmNlIjogNjkuNiwgImR1cmF0aW9uIjogOC4zLCAiaW5zdHJ1Y3Rpb24iOiAiVHVybiBzbGlnaHQgbGVmdCBvbnRvIFVudGVyZSBNXHUwMGZjaGxzdHJhXHUwMGRmZSIsICJuYW1lIjogIlVudGVyZSBNXHUwMGZjaGxzdHJhXHUwMGRmZSIsICJ0eXBlIjogNCwgIndheV9wb2ludHMiOiBbNDQ5LCA0NTNdfSwgeyJkaXN0YW5jZSI6IDU1LjksICJkdXJhdGlvbiI6IDExLjIsICJpbnN0cnVjdGlvbiI6ICJUdXJuIHNsaWdodCByaWdodCBvbnRvIE1cdTAwZmNobHN0cmFcdTAwZGZlIiwgIm5hbWUiOiAiTVx1MDBmY2hsc3RyYVx1MDBkZmUiLCAidHlwZSI6IDUsICJ3YXlfcG9pbnRzIjogWzQ1MywgNDU3XX0sIHsiZGlzdGFuY2UiOiA2OS45LCAiZHVyYXRpb24iOiAxNCwgImluc3RydWN0aW9uIjogIlR1cm4gbGVmdCBvbnRvIEhhdXB0c3RyYVx1MDBkZmUsIEwgNTk2IiwgIm5hbWUiOiAiSGF1cHRzdHJhXHUwMGRmZSwgTCA1OTYiLCAidHlwZSI6IDAsICJ3YXlfcG9pbnRzIjogWzQ1NywgNDY0XX0sIHsiZGlzdGFuY2UiOiAyMDIsICJkdXJhdGlvbiI6IDEyMi40LCAiaW5zdHJ1Y3Rpb24iOiAiVHVybiByaWdodCBvbnRvIFJhdGhhdXNzdHJhXHUwMGRmZSIsICJuYW1lIjogIlJhdGhhdXNzdHJhXHUwMGRmZSIsICJ0eXBlIjogMSwgIndheV9wb2ludHMiOiBbNDY0LCA0NzBdfSwgeyJkaXN0YW5jZSI6IDcyLCAiZHVyYXRpb24iOiAxNC40LCAiaW5zdHJ1Y3Rpb24iOiAiVHVybiBzbGlnaHQgbGVmdCBvbnRvIEVpY2hlbGJlcmdzdHJhXHUwMGRmZSIsICJuYW1lIjogIkVpY2hlbGJlcmdzdHJhXHUwMGRmZSIsICJ0eXBlIjogNCwgIndheV9wb2ludHMiOiBbNDcwLCA0NzNdfSwgeyJkaXN0YW5jZSI6IDIzLjIsICJkdXJhdGlvbiI6IDQuNiwgImluc3RydWN0aW9uIjogIlR1cm4gbGVmdCBvbnRvIEltIEtsaW5nZW4iLCAibmFtZSI6ICJJbSBLbGluZ2VuIiwgInR5cGUiOiAwLCAid2F5X3BvaW50cyI6IFs0NzMsIDQ3NV19LCB7ImRpc3RhbmNlIjogMTg2LjIsICJkdXJhdGlvbiI6IDExMS43LCAiaW5zdHJ1Y3Rpb24iOiAiVHVybiBzbGlnaHQgbGVmdCBvbnRvIEltIEtsaW5nZW4iLCAibmFtZSI6ICJJbSBLbGluZ2VuIiwgInR5cGUiOiA0LCAid2F5X3BvaW50cyI6IFs0NzUsIDQ4NF19LCB7ImRpc3RhbmNlIjogMTAyLjEsICJkdXJhdGlvbiI6IDguNCwgImluc3RydWN0aW9uIjogIlR1cm4gcmlnaHQgb250byBJbSBLbGluZ2VuIiwgIm5hbWUiOiAiSW0gS2xpbmdlbiIsICJ0eXBlIjogMSwgIndheV9wb2ludHMiOiBbNDg0LCA0OTBdfSwgeyJkaXN0YW5jZSI6IDY5LjYsICJkdXJhdGlvbiI6IDYyLjcsICJpbnN0cnVjdGlvbiI6ICJUdXJuIHNsaWdodCBsZWZ0IG9udG8gRHJlaWJcdTAwZmNjaGVsYWNrZXJ3ZWcsIEEyIiwgIm5hbWUiOiAiRHJlaWJcdTAwZmNjaGVsYWNrZXJ3ZWcsIEEyIiwgInR5cGUiOiA0LCAid2F5X3BvaW50cyI6IFs0OTAsIDQ5M119LCB7ImRpc3RhbmNlIjogMTYuOSwgImR1cmF0aW9uIjogMTAuMiwgImluc3RydWN0aW9uIjogIkNvbnRpbnVlIHN0cmFpZ2h0IiwgIm5hbWUiOiAiIiwgInR5cGUiOiA2LCAid2F5X3BvaW50cyI6IFs0OTMsIDQ5NF19LCB7ImRpc3RhbmNlIjogMTUzLjgsICJkdXJhdGlvbiI6IDEzOC40LCAiaW5zdHJ1Y3Rpb24iOiAiVHVybiBzbGlnaHQgcmlnaHQiLCAibmFtZSI6ICIiLCAidHlwZSI6IDUsICJ3YXlfcG9pbnRzIjogWzQ5NCwgNTAxXX0sIHsiZGlzdGFuY2UiOiAyMTYsICJkdXJhdGlvbiI6IDI5Mi4yLCAiaW5zdHJ1Y3Rpb24iOiAiVHVybiByaWdodCIsICJuYW1lIjogIiIsICJ0eXBlIjogMSwgIndheV9wb2ludHMiOiBbNTAxLCA1MDldfSwgeyJkaXN0YW5jZSI6IDAsICJkdXJhdGlvbiI6IDAsICJpbnN0cnVjdGlvbiI6ICJBcnJpdmUgYXQgeW91ciBkZXN0aW5hdGlvbiwgb24gdGhlIHJpZ2h0IiwgIm5hbWUiOiAiIiwgInR5cGUiOiAxMCwgIndheV9wb2ludHMiOiBbNTA5LCA1MDldfV19XSwgInN0eWxlIjogeyJvcGFjaXR5IjogMSwgIndlaWdodCI6IDd9LCAic3VtbWFyeSI6IFt7ImRpc3RhbmNlIjogMTY0MjguNCwgImR1cmF0aW9uIjogNTQwNi43fV0sICJ3YXlfcG9pbnRzIjogWzAsIDUwOV19LCAidHlwZSI6ICJGZWF0dXJlIn1dLCAiaW5mbyI6IHsiYXR0cmlidXRpb24iOiAib3BlbnJvdXRlc2VydmljZS5vcmcgfCBPcGVuU3RyZWV0TWFwIGNvbnRyaWJ1dG9ycyIsICJlbmdpbmUiOiB7ImJ1aWxkX2RhdGUiOiAiMjAxOC0wNi0yMFQxNzowNzoxNloiLCAidmVyc2lvbiI6ICI0LjUuMCJ9LCAib3NtX2ZpbGVfbWQ1X2hhc2giOiAiYWFhYiIsICJxdWVyeSI6IHsiY29vcmRpbmF0ZXMiOiBbWzguNjgxNjAyLCA0OS40MjIxNDFdLCBbOC43MzcyMjEsIDQ5LjQ5MzMzXV0sICJlbGV2YXRpb24iOiBmYWxzZSwgImdlb21ldHJ5IjogdHJ1ZSwgImdlb21ldHJ5X2Zvcm1hdCI6ICJnZW9qc29uIiwgImdlb21ldHJ5X3NpbXBsaWZ5IjogZmFsc2UsICJpbnN0cnVjdGlvbnMiOiB0cnVlLCAiaW5zdHJ1Y3Rpb25zX2Zvcm1hdCI6ICJ0ZXh0IiwgImxhbmd1YWdlIjogImVuIiwgInByZWZlcmVuY2UiOiAiZmFzdGVzdCIsICJwcm9maWxlIjogImN5Y2xpbmctcmVndWxhciIsICJ1bml0cyI6ICJtIn0sICJzZXJ2aWNlIjogInJvdXRpbmciLCAidGltZXN0YW1wIjogMTUzMjg1ODM4NjU2Mn0sICJ0eXBlIjogIkZlYXR1cmVDb2xsZWN0aW9uIn0KICAgICAgICAgICAgICAgICAgICAKICAgICAgICAgICAgICAgICAgICApLmFkZFRvKG1hcF81ZmQwYjQwNTdkMjY0NzhiYWJhZDU4Y2M2Y2YwMWRlMCk7CiAgICAgICAgICAgICAgICBnZW9fanNvbl81NWRmMGY3MjYzZDI0ZWNhYWIyNzFjMGEzMWM5NDU3Yy5zZXRTdHlsZShmdW5jdGlvbihmZWF0dXJlKSB7cmV0dXJuIGZlYXR1cmUucHJvcGVydGllcy5zdHlsZTt9KTsKCiAgICAgICAgICAgIAogICAgCiAgICAgICAgICAgIHZhciBwb3B1cF84NDJjZTI2ZmZiYmE0MTMwYjAzMmE3ODhiNWMxZjQzYiA9IEwucG9wdXAoe21heFdpZHRoOiAnMzAwJ30pOwoKICAgICAgICAgICAgCiAgICAgICAgICAgICAgICB2YXIgaV9mcmFtZV9mMzBlYzA1YzNiMzA0ZGNkYjBiNTUzMjc3NGE3NmI1NCA9ICQoJzxpZnJhbWUgc3JjPSJkYXRhOnRleHQvaHRtbDtjaGFyc2V0PXV0Zi04O2Jhc2U2NCxDaUFnSUNBOGMzUnliMjVuUG1SMWNtRjBhVzl1T2lBOEwzTjBjbTl1Wno0NU1DNHhJRzFwYm5NOFluSStDaUFnSUNBZ0lDQWdJQ0FnSUNBZ0lDQWdJQ0FnUEhOMGNtOXVaejVrYVhOMFlXNWpaVG9nUEM5emRISnZibWMrTVRZdU5ESTRJR3R0IiB3aWR0aD0iMzAwIiBzdHlsZT0iYm9yZGVyOm5vbmUgIWltcG9ydGFudDsiIGhlaWdodD0iMTUwIj48L2lmcmFtZT4nKVswXTsKICAgICAgICAgICAgICAgIHBvcHVwXzg0MmNlMjZmZmJiYTQxMzBiMDMyYTc4OGI1YzFmNDNiLnNldENvbnRlbnQoaV9mcmFtZV9mMzBlYzA1YzNiMzA0ZGNkYjBiNTUzMjc3NGE3NmI1NCk7CiAgICAgICAgICAgIAoKICAgICAgICAgICAgZ2VvX2pzb25fNTVkZjBmNzI2M2QyNGVjYWFiMjcxYzBhMzFjOTQ1N2MuYmluZFBvcHVwKHBvcHVwXzg0MmNlMjZmZmJiYTQxMzBiMDMyYTc4OGI1YzFmNDNiKTsKCiAgICAgICAgICAgIAogICAgICAgIAo8L3NjcmlwdD4=\" width=\"100%\" height=\"400\"style=\"border:none !important;\" \"allowfullscreen\" \"webkitallowfullscreen\" \"mozallowfullscreen\"></iframe>"
      ],
      "text/plain": [
       "<branca.element.Figure at 0x7fb54b236a90>"
      ]
     },
     "metadata": {},
     "output_type": "display_data"
    }
   ],
   "source": [
    "import openrouteservice as ors\n",
    "\n",
    "ors_key = api_key[\"ORS\"] # keys are stored in local file\n",
    "clnt = ors.Client(key=ors_key) # set up client\n",
    "# This function is called by the widget's event callback\n",
    "def avoidHills(mode):\n",
    "    params = {'coordinates': [[8.681602, 49.422141],[8.737221, 49.49333]],\n",
    "              'profile': 'cycling-regular',\n",
    "              'format_out': 'geojson'}\n",
    "    if mode != 'none':\n",
    "        params['options'] = {'avoid_features': mode}\n",
    "    route = clnt.directions(**params)\n",
    "    return route\n",
    "\n",
    "widget_hills"
   ]
  },
  {
   "cell_type": "markdown",
   "metadata": {
    "slideshow": {
     "slide_type": "slide"
    }
   },
   "source": [
    "## Directions - Avoid countries for `driving-hgv`"
   ]
  },
  {
   "cell_type": "code",
   "execution_count": null,
   "metadata": {
    "slideshow": {
     "slide_type": "skip"
    }
   },
   "outputs": [],
   "source": [
    "widget_country = widgets.SelectMultiple(\n",
    "    options={'DE':75, 'CH': 193, 'AT': 11, 'None': 'None'},\n",
    "    value=[75],\n",
    "    rows=4,\n",
    "    description='Countries',\n",
    "    disabled=False\n",
    ")\n",
    "\n",
    "def on_change_country(change):\n",
    "    route = avoidCountry(change['new'])\n",
    "    bbox = route['bbox']\n",
    "    bbox_centroid = (average([bbox[1],bbox[3]]),average([bbox[0],bbox[2]]))\n",
    "    route_properties = route['features'][0]['properties']\n",
    "    \n",
    "    # Clear all output\n",
    "    clear_output()\n",
    "    \n",
    "    fig1, map1 = createBaseMap('100%', '400', map_provider='OpenStreetMap', coords=bbox_centroid, zoom=6)\n",
    "    popup_html = \"\"\"<strong>duration: </strong>{0:.1f} mins<br>\n",
    "                    <strong>distance: </strong>{1:.3f} km\"\"\".format(route_properties['summary'][0]['duration'] / 60,\n",
    "                                                           route_properties['summary'][0]['distance'] / 1000)\n",
    "    \n",
    "    iframe = branca.element.IFrame(html=popup_html, width=300, height=150)\n",
    "    popup = folium.Popup(iframe, max_width=300)\n",
    "    \n",
    "    gj = folium.features.GeoJson(route, style_function=style_function())\n",
    "    gj.add_child(popup)\n",
    "    gj.add_to(map1)\n",
    "    map1.add_to(fig1)\n",
    "    \n",
    "    display(widget_country)\n",
    "    display(fig1)\n",
    "    \n",
    "        \n",
    "widget_country.observe(on_change_country, names='value')"
   ]
  },
  {
   "cell_type": "code",
   "execution_count": null,
   "metadata": {
    "slideshow": {
     "slide_type": "fragment"
    }
   },
   "outputs": [],
   "source": [
    "import openrouteservice as ors\n",
    "\n",
    "ors_key = api_key[\"ORS\"] # comes from local file\n",
    "clnt = ors.Client(key=ors_key) # set up client\n",
    "# This function is called by the widget's event callback\n",
    "def avoidCountry(country):\n",
    "    country = '|'.join([str(c) for c in country])\n",
    "    params = {'coordinates': [[8.706665, 49.50381],[9.217529, 45.521744]],\n",
    "              'profile': 'driving-hgv',\n",
    "              'format_out': 'geojson',}\n",
    "    if country != 'None':\n",
    "        params['options'] = {'avoid_countries': country}\n",
    "    route = clnt.directions(**params)\n",
    "    return route\n",
    "\n",
    "widget_country"
   ]
  },
  {
   "cell_type": "markdown",
   "metadata": {
    "slideshow": {
     "slide_type": "slide"
    }
   },
   "source": [
    "## Directions - Route green or quiet for `foot-walking`"
   ]
  },
  {
   "cell_type": "code",
   "execution_count": null,
   "metadata": {
    "slideshow": {
     "slide_type": "skip"
    }
   },
   "outputs": [],
   "source": [
    "widget_green = widgets.ToggleButtons(\n",
    "                    options=['green', 'quiet', 'none'],\n",
    "                    description='Preference:',\n",
    "                    disabled=False,\n",
    "                    button_style='info', # 'success', 'info', 'warning', 'danger' or ''\n",
    "                    )\n",
    "\n",
    "def on_change_green(change):    \n",
    "    route = routeGreen(change['new'])\n",
    "    bbox = route['bbox']\n",
    "    bbox_centroid = (average([bbox[1],bbox[3]]),average([bbox[0],bbox[2]]))\n",
    "    route_properties = route['features'][0]['properties']\n",
    "    \n",
    "    # Clear all output\n",
    "    clear_output()\n",
    "    \n",
    "    fig1, map1 = createBaseMap('100%', '400', map_provider='OpenStreetMap', coords=bbox_centroid, zoom=13)\n",
    "    popup_html = \"\"\"<strong>duration: </strong>{0:.1f} mins<br>\n",
    "                    <strong>distance: </strong>{1:.3f} km\"\"\".format(route_properties['summary'][0]['duration'] / 60,\n",
    "                                                           route_properties['summary'][0]['distance'] / 1000)\n",
    "    \n",
    "    iframe = branca.element.IFrame(html=popup_html, width=300, height=150)\n",
    "    popup = folium.Popup(iframe, max_width=300)\n",
    "    \n",
    "    gj = folium.features.GeoJson(route, style_function=style_function())\n",
    "    gj.add_child(popup)\n",
    "    gj.add_to(map1)\n",
    "    map1.add_to(fig1)\n",
    "    \n",
    "    display(widget_green)\n",
    "    display(fig1)\n",
    "    \n",
    "        \n",
    "widget_green.observe(on_change_green, names='value')"
   ]
  },
  {
   "cell_type": "code",
   "execution_count": null,
   "metadata": {
    "slideshow": {
     "slide_type": "fragment"
    }
   },
   "outputs": [],
   "source": [
    "import openrouteservice as ors\n",
    "\n",
    "ors_key = api_key[\"ORS\"] # comes from local file\n",
    "clnt = ors.Client(key=ors_key) # set up client\n",
    "# This function is called by the widget's event callback\n",
    "def routeGreen(pref):\n",
    "    params = {'coordinates': [[8.690872, 49.406673],[8.692117, 49.430124]],\n",
    "              'profile': 'foot-walking',\n",
    "              'optimized': 'false',\n",
    "              'format_out': 'geojson'}\n",
    "    if pref != 'none':\n",
    "        params['options'] = {'profile_params': {'weightings': {pref: {'factor': 1.0}}}}\n",
    "    route = clnt.directions(**params)\n",
    "    return route\n",
    "\n",
    "widget_green"
   ]
  },
  {
   "cell_type": "markdown",
   "metadata": {
    "slideshow": {
     "slide_type": "slide"
    }
   },
   "source": [
    "## Isochrones API\n",
    "\n",
    "<div style=\"margin:0px 20px; width: 40%; display: inline-block; vertical-align: top;\">\n",
    "<h3>Features</h3>\n",
    "<br>\n",
    "<div style=\" border-right: 1px solid black\">\n",
    "<ul>\n",
    "    <li>9 routing profiles:\n",
    "        <ul>\n",
    "            <li>2 car: `driving-car`, `driving-hgv`\n",
    "            <li>5 cycling, incl. `*-mountain`, `*-safe`\n",
    "            <li>2 walking: `foot-walking`, `foot-hiking`\n",
    "        </ul>\n",
    "    <li>Query up to 5 locations and 10 intervals in one request\n",
    "</ul>\n",
    "</div>\n",
    "</div>\n",
    "\n",
    "<div style=\"margin:0px 20px; width: 50%; display: inline-block;vertical-align: top\">\n",
    "<h3>Functionalities</h3>\n",
    "<ul style=\"line-height: 30px\">\n",
    "    <li>**`attributes`**: Returns e.g. total population within isochrone<sup>1</sup>\n",
    "    <li>plus similar functionalities as **Directions** API\n",
    "</ul>\n",
    "</div>\n",
    "\n",
    "<br>\n",
    "<br>\n",
    "\n",
    "<small><sup>1</sup> Global data coverage by [EU GSH](https://ghsl.jrc.ec.europa.eu/about.php)</small>"
   ]
  },
  {
   "cell_type": "markdown",
   "metadata": {
    "slideshow": {
     "slide_type": "slide"
    }
   },
   "source": [
    "## Isochrones - Retrieve population"
   ]
  },
  {
   "cell_type": "code",
   "execution_count": null,
   "metadata": {
    "slideshow": {
     "slide_type": "skip"
    }
   },
   "outputs": [],
   "source": [
    "widget_iso = widgets.ToggleButtons(\n",
    "                    options=['time', 'distance'],\n",
    "                    description='Type: ',\n",
    "                    disabled=False,\n",
    "                    button_style='info', # 'success', 'info', 'warning', 'danger' or ''\n",
    "                    )\n",
    "\n",
    "def on_change_iso(change):    \n",
    "    features = calculateIso(change['new'])\n",
    "    bbox = features['bbox']\n",
    "    bbox_centroid = (average([bbox[1],bbox[3]]),average([bbox[0],bbox[2]]))\n",
    "    \n",
    "    # Clear all output\n",
    "    clear_output()\n",
    "    \n",
    "    fig1, map1 = createBaseMap('100%', '400', map_provider='OpenStreetMap', coords=bbox_centroid, zoom=5)\n",
    "    \n",
    "    for iso in features['features']:\n",
    "        route_properties = iso['properties']\n",
    "    \n",
    "        unit = '30 mins' if features['info']['query']['range_type'] == 'time' else '50 km'\n",
    "        popup_html = \"{} people living within {} driving time.\".format(route_properties['total_pop'], unit)\n",
    "    \n",
    "        iframe = branca.element.IFrame(html=popup_html, width=300, height=150)\n",
    "        popup = folium.Popup(iframe, max_width=300)\n",
    "\n",
    "        gj = folium.features.GeoJson(iso, style_function=style_function(0.5))\n",
    "        gj.add_child(popup)\n",
    "        gj.add_to(map1)\n",
    "        \n",
    "    map1.add_to(fig1)\n",
    "    \n",
    "    display(widget_iso)\n",
    "    display(fig1)\n",
    "    \n",
    "        \n",
    "widget_iso.observe(on_change_iso, names='value')"
   ]
  },
  {
   "cell_type": "code",
   "execution_count": null,
   "metadata": {
    "slideshow": {
     "slide_type": "fragment"
    }
   },
   "outputs": [],
   "source": [
    "import openrouteservice as ors\n",
    "\n",
    "ors_key = api_key[\"ORS\"] # comes from local file\n",
    "clnt = ors.Client(key=ors_key) # set up client\n",
    "# This function is called by the widget's event callback\n",
    "def calculateIso(dim):\n",
    "    number = 1800 if dim == 'time' else 50000\n",
    "    # Milan, Heidelberg, Berlin\n",
    "    params = {'locations': [[9.170837, 45.47554],[8.684692, 49.409186], [13.41332, 52.521626]],\n",
    "              'profile': 'driving-car',\n",
    "              'range_type': dim,\n",
    "              'intervals': [number],\n",
    "              'segments': number,\n",
    "              'attributes': ['total_pop']}\n",
    "    iso = clnt.isochrones(**params)\n",
    "    return iso\n",
    "\n",
    "widget_iso"
   ]
  },
  {
   "cell_type": "markdown",
   "metadata": {
    "slideshow": {
     "slide_type": "slide"
    }
   },
   "source": [
    "## Geocoding API\n",
    "\n",
    "Fork of **[Pelias](https://github.com/pelias/pelias)** geocoding engine.\n",
    "\n",
    "<div style=\"margin:0px 20px; width: 40%; display: inline-block; vertical-align: top;\">\n",
    "<h3>Features</h3>\n",
    "<br>\n",
    "<div style=\" border-right: 1px solid black\">\n",
    "<ul>\n",
    "    <li>3 endpoints:\n",
    "        <ul>\n",
    "            <li>`geocoding/search?`\n",
    "            <li>`geocoding/reverse?`\n",
    "            <li>`geocoding/autocomplete?`\n",
    "        </ul>\n",
    "    <li>4 data sources:\n",
    "        <ul>\n",
    "            <li>**WhosOnFirst**: Global administrative boundaries\n",
    "            <li>**OSM**\n",
    "            <li>**openaddresses**: ~ 500 Mio addresses\n",
    "            <li>**geonames**: Additional place names and locations\n",
    "</ul>\n",
    "</div>\n",
    "</div>\n",
    "\n",
    "<div style=\"margin:0px 20px; width: 50%; display: inline-block;vertical-align: top\">\n",
    "<h3>Functionalities</h3>\n",
    "<ul style=\"line-height: 30px\">\n",
    "    <li>**libpostal**: address parser and normalizer\n",
    "    <li>**placeholder**: address parser for unstructured text\n",
    "    <li>**interpolation**: attempts interpolation for unknown house numbers\n",
    "</ul>\n",
    "<br>\n",
    "<br>\n",
    "These extra services are stand-alone API's and can be used in any application.\n",
    "</div>"
   ]
  },
  {
   "cell_type": "markdown",
   "metadata": {
    "slideshow": {
     "slide_type": "slide"
    }
   },
   "source": [
    "## Geocoding - Running out of names?!"
   ]
  },
  {
   "cell_type": "code",
   "execution_count": null,
   "metadata": {
    "slideshow": {
     "slide_type": "skip"
    }
   },
   "outputs": [],
   "source": [
    "widget_geocode = widgets.ToggleButtons(\n",
    "                    options=['Heidelberg', 'Milan', 'Springfield'],\n",
    "                    description='Type: ',\n",
    "                    disabled=False,\n",
    "                    button_style='info', # 'success', 'info', 'warning', 'danger' or ''\n",
    "                    )\n",
    "\n",
    "def on_change_geocode(change):    \n",
    "    features = geocode(change['new'])\n",
    "    bbox = features['bbox']\n",
    "    bbox_centroid = (average([bbox[1],bbox[3]]),average([bbox[0],bbox[2]]))\n",
    "    us_cities = len([place for place in features['features'] if place['properties']['country'] == 'United States'])\n",
    "    \n",
    "    # Clear all output\n",
    "    clear_output()\n",
    "    \n",
    "    fig1, map1 = createBaseMap('100%', '400', map_provider='OpenStreetMap', coords=bbox_centroid, zoom=2)\n",
    "    print(\"Amount of cities worldwide:\\t{}\\nAmount of cities in US:  \\t{}\".format(len(features['features']), us_cities))\n",
    "    \n",
    "    for point in features['features']:\n",
    "        route_properties = point['properties']\n",
    "    \n",
    "        popup_html = \"{}<br>{}<br>{}\".format(route_properties.get('name', ''), \n",
    "                                           route_properties.get('macroregion', ''),\n",
    "                                           route_properties.get('country', '')\n",
    "                                          )\n",
    "    \n",
    "        iframe = branca.element.IFrame(html=popup_html, width=300, height=150)\n",
    "        popup = folium.Popup(iframe, max_width=300)\n",
    "\n",
    "        gj = folium.features.GeoJson(point)\n",
    "        gj.add_child(popup)\n",
    "        gj.add_to(map1)\n",
    "        \n",
    "    map1.add_to(fig1)\n",
    "    \n",
    "    display(widget_geocode)\n",
    "    display(fig1)\n",
    "    \n",
    "widget_geocode.observe(on_change_geocode, names='value')"
   ]
  },
  {
   "cell_type": "code",
   "execution_count": null,
   "metadata": {
    "slideshow": {
     "slide_type": "fragment"
    }
   },
   "outputs": [],
   "source": [
    "import openrouteservice as ors\n",
    "\n",
    "ors_key = api_key[\"ORS\"] # comes from local file\n",
    "clnt = ors.Client(key=ors_key) # set up client\n",
    "# This function is called by the widget's event callback\n",
    "def geocode(name):\n",
    "    route = clnt.pelias_search(name, size=50)\n",
    "    return route\n",
    "\n",
    "widget_geocode"
   ]
  },
  {
   "cell_type": "markdown",
   "metadata": {
    "slideshow": {
     "slide_type": "slide"
    }
   },
   "source": [
    "<div style=\"width: 48%; display: inline-block; vertical-align: top;\">\n",
    "<h2>Matrix API</h2>\n",
    "<br>\n",
    "    <h3>Features</h3>\n",
    "    <ul>\n",
    "        <li>Calculates OD matrices for up to **50x50 locations**\n",
    "        <li>For all 9 profiles\n",
    "        <li>Both `distance` and `duration` are returned\n",
    "    </ul>\n",
    "</div>\n",
    "\n",
    "<div style=\"padding-left: 40px; border-left: 1px solid black; width: 48%; display: inline-block; vertical-align: top;\">\n",
    "<h2>POI API</h2>\n",
    "<br>\n",
    "    <div style=\"\">\n",
    "        <h3>Features</h3>\n",
    "        <ul>\n",
    "            <li>Query OSM POI's for up to 5 categories in one request\n",
    "            <li>Use GeoJSON geometries or `bbox` to filter geographically\n",
    "            <li>Use OSM tags to filter POI's, e.g. `smoking: no`, `wheelchair: yes`\n",
    "            <li>Returns up to 2000 POI's per request\n",
    "\n",
    "        </ul>\n",
    "    </div>\n",
    "</div>"
   ]
  },
  {
   "cell_type": "markdown",
   "metadata": {
    "slideshow": {
     "slide_type": "slide"
    }
   },
   "source": [
    "## POIs - What's around us"
   ]
  },
  {
   "cell_type": "code",
   "execution_count": null,
   "metadata": {
    "slideshow": {
     "slide_type": "skip"
    }
   },
   "outputs": [],
   "source": [
    "def populate_list(pois):\n",
    "    cat_list = []\n",
    "    for feature in pois['features']:\n",
    "        categories = feature['properties']['category_ids']\n",
    "        for category in categories:\n",
    "            cat_list.append(categories[category]['category_name'])\n",
    "    return sorted(set(cat_list))\n",
    "    \n",
    "milan = [9.226863, 45.479302]\n",
    "def on_change_pois(change):    \n",
    "    features = getPois(milan)\n",
    "    print(features)\n",
    "    # Clear all output\n",
    "    clear_output()\n",
    "    \n",
    "    fig1, map1 = createBaseMap('100%', '400', map_provider='OpenStreetMap', coords=list(reversed(milan)), zoom=14)\n",
    "    \n",
    "    for point in features['features']:\n",
    "        categories = point['properties']['category_ids']\n",
    "        for category in categories:\n",
    "            if categories[category]['category_name'] == change['new']:\n",
    "                \n",
    "                gj = folium.features.GeoJson(point)\n",
    "                gj.add_to(map1)\n",
    "        \n",
    "    map1.add_to(fig1)\n",
    "    \n",
    "    display(widget_pois)\n",
    "    display(fig1)"
   ]
  },
  {
   "cell_type": "code",
   "execution_count": null,
   "metadata": {
    "slideshow": {
     "slide_type": "fragment"
    }
   },
   "outputs": [],
   "source": [
    "import openrouteservice as ors\n",
    "from geojson import Point\n",
    "\n",
    "ors_key = api_key[\"ORS\"] # comes from local file\n",
    "clnt = ors.Client(key=ors_key) # set up client\n",
    "# This function is called by the widget's event callback\n",
    "def getPois(location):\n",
    "    params = {'request': 'pois',\n",
    "            'geojson': Point(location),\n",
    "            'buffer': 1000, # 1km radius around SOTM location\n",
    "#             'filter_category_ids': [570],\n",
    "            'sortby': 'distance'}\n",
    "    route = clnt.places(**params)\n",
    "    return route\n",
    "pois = getPois(milan)\n",
    "options = populate_list(pois)\n",
    "widget_pois = widgets.Dropdown(options=options)\n",
    "widget_pois.observe(on_change_pois, names='value')\n",
    "widget_pois"
   ]
  },
  {
   "cell_type": "markdown",
   "metadata": {
    "slideshow": {
     "slide_type": "slide"
    }
   },
   "source": [
    "# You know what's on for dinner?\n",
    "\n",
    "Let's see how OSM and Yelp make the restaurant choice a little easier:\n",
    "\n",
    "- Find restaurants within 10 min walking distance from SOTM location\n",
    "- Filter restaurants with Yelp rating >= 4\n",
    "- Create widget to filter by restaurant category"
   ]
  },
  {
   "cell_type": "markdown",
   "metadata": {
    "slideshow": {
     "slide_type": "slide"
    }
   },
   "source": [
    "## Set up *openrouteservice* client\n",
    "\n",
    "1. Sign up on our [homepage](https://openrouteservice.org/sign-up/) \n",
    "2. Create API key on our [developer portal](https://openrouteservice.org/dev/#/home)\n",
    "3. Review our [ToS](https://openrouteservice.org/terms-of-service/)\n",
    "4. `pip install openrouteservice`\n",
    "5. Fire away!"
   ]
  },
  {
   "cell_type": "markdown",
   "metadata": {
    "slideshow": {
     "slide_type": "fragment"
    }
   },
   "source": [
    "Here we:\n",
    "- _**Geocode**_ the SOTM official address\n",
    "- Create an _**isochrone**_ with 10 mins walking radius"
   ]
  },
  {
   "cell_type": "code",
   "execution_count": null,
   "metadata": {
    "slideshow": {
     "slide_type": "-"
    }
   },
   "outputs": [],
   "source": [
    "import openrouteservice as ors\n",
    "\n",
    "clnt = ors.Client(key='5b3ce3597851110001cf624870cf2f2a58d44c718542b3088221b684')\n",
    "\n",
    "params_geocode = {'text': 'Politecnico di Milano ‐ Piazza Leonardo da Vinci, Milan, Lombardy, Italy'}\n",
    "\n",
    "sotm_location = clnt.pelias_search(**params_geocode)['features'] # Geocode from official address\n",
    "sotm_isochrone = clnt.isochrones(locations=sotm_location[0]['geometry']['coordinates'], # Calculate isochrones\n",
    "                                 intervals=[600],\n",
    "                                 segments=600,\n",
    "                                 profile='foot-walking')"
   ]
  },
  {
   "cell_type": "code",
   "execution_count": null,
   "metadata": {
    "slideshow": {
     "slide_type": "skip"
    }
   },
   "outputs": [],
   "source": [
    "x, y = sotm_location[0]['geometry']['coordinates']\n",
    "def createWidgetBaseMap(width, height, include=True, map_provider='stamenwatercolor'):\n",
    "    bar_icon = folium.features.CustomIcon('https://openrouteservice.org/wp-content/uploads/2017/07/bar.png',\n",
    "                                       icon_size=(30, 30))\n",
    "    sotm_icon = folium.features.CustomIcon('https://openrouteservice.org/wp-content/uploads/2017/07/sotm_map_marker.png', icon_size=(58, 70))\n",
    "\n",
    "    fig = folium.Figure(width=width, height=height)\n",
    "    m = folium.Map(tiles=map_provider,location=(y, x), zoom_start=15)\n",
    "    folium.map.Marker([y, x], icon=sotm_icon).add_to(m)\n",
    "    if include:\n",
    "        folium.features.GeoJson(sotm_isochrone).add_to(m)\n",
    "    \n",
    "    m.add_child(MeasureControl())\n",
    "    \n",
    "    return fig, m"
   ]
  },
  {
   "cell_type": "markdown",
   "metadata": {
    "slideshow": {
     "slide_type": "slide"
    }
   },
   "source": [
    "## Set up a basic `folium` map\n",
    "\n",
    "- The `createWidgetBaseMap` factory sets up the initial map, so we start fresh every time"
   ]
  },
  {
   "cell_type": "code",
   "execution_count": null,
   "metadata": {
    "scrolled": false,
    "slideshow": {
     "slide_type": "-"
    }
   },
   "outputs": [],
   "source": [
    "fig, m = createWidgetBaseMap('100%', 600) # Call map factory with figure dimensions\n",
    "fig.add_child(m)\n",
    "fig"
   ]
  },
  {
   "cell_type": "markdown",
   "metadata": {
    "slideshow": {
     "slide_type": "slide"
    }
   },
   "source": [
    "## Request restaurant POI's\n",
    "\n",
    "- `/pois?` endpoint takes GeoJSON\n",
    "- we can pipe the GeoJSON output of `/isochrones?` directly to `/pois?` to limit the query to the isochrones geometry"
   ]
  },
  {
   "cell_type": "code",
   "execution_count": null,
   "metadata": {
    "slideshow": {
     "slide_type": "-"
    }
   },
   "outputs": [],
   "source": [
    "param_pois = {'request': 'pois',\n",
    "            'geojson': sotm_isochrone['features'][0]['geometry'],\n",
    "            'filter_category_ids': [570], # ID list: https://github.com/GIScience/openrouteservice-docs#sustenance--560\n",
    "            'sortby': 'distance'}\n",
    "\n",
    "sotm_restaurants = clnt.places(**param_pois)['features']\n",
    "display(HTML('<br><br>Amount of restaurants within 10 mins walking radius: <strong>{}</strong>'.format(len(sotm_restaurants))))"
   ]
  },
  {
   "cell_type": "markdown",
   "metadata": {
    "slideshow": {
     "slide_type": "slide"
    }
   },
   "source": [
    "## Yelp rating\n",
    "\n",
    "- use the [Yelp businesses API](https://www.yelp.de/developers/documentation/v3/business) to query the reviews of our restaurants\n",
    "- extract `name`, `rating` and `url` to feature popup"
   ]
  },
  {
   "cell_type": "code",
   "execution_count": null,
   "metadata": {
    "slideshow": {
     "slide_type": "skip"
    }
   },
   "outputs": [],
   "source": [
    "yelp_url = 'https://api.yelp.com/v3/businesses/search?' # Create a Yelp account and a API key: https://www.yelp.com/developers\n",
    "yelp_header = {'Authorization': api_key['Authorization']} # use secret from file: {'Authorization': 'Bearer MyAPIkey'}\n",
    "yelp_params = {'limit': 1}\n",
    "\n",
    "def yelp_response(**kwargs):\n",
    "    yelp_params.update({'term': r_name,\n",
    "                        'longitude': r_coords[0],\n",
    "                        'latitude': r_coords[1]})\n",
    "    # Concat params to URL encoded string\n",
    "    yelp_url_params = requests.utils.unquote_unreserved(urlencode(list(yelp_params.items())))\n",
    "    try:\n",
    "        yelp_response = requests.get(yelp_url + yelp_url_params,\n",
    "                                     headers=yelp_header).json()['businesses'][0]\n",
    "    except:\n",
    "        return False\n",
    "\n",
    "    if yelp_response['rating'] < 4.0:\n",
    "        return False\n",
    "    \n",
    "    return yelp_response"
   ]
  },
  {
   "cell_type": "code",
   "execution_count": null,
   "metadata": {
    "slideshow": {
     "slide_type": "-"
    }
   },
   "outputs": [],
   "source": [
    "import branca\n",
    "\n",
    "fig, m = createWidgetBaseMap('100%', '500')\n",
    "for restaurant in sotm_restaurants:\n",
    "    r_name = restaurant['properties']['osm_tags'].get('name', '')\n",
    "    if r_name != '':\n",
    "        r_coords = restaurant['geometry']['coordinates']\n",
    "        yelp_return = yelp_response(r_name=r_name, # Call hidden function to retrieve Yelp results with rating >= 4 stars\n",
    "                                    r_coords=r_coords)\n",
    "        if yelp_return:\n",
    "            restaurant['yelp'] = yelp_return\n",
    "            restaurant_icon = folium.features.CustomIcon('https://openrouteservice.org/wp-content/uploads/2017/07/restaurant2.png',\n",
    "                                                   icon_size=(50, 50))\n",
    "            popup_html = '<h4>{0}</h4><strong><a href=\"{1}\" target=\"_blank\">URL</a><br>Stars: </strong>{2}'.format(r_name, yelp_return['url'], yelp_return['rating'])\n",
    "            iframe = branca.element.IFrame(html=popup_html, width=300, height=100)\n",
    "            popup = folium.Popup(iframe, max_width=300)\n",
    "            folium.map.Marker(list(reversed(r_coords)), icon=restaurant_icon, popup=popup).add_to(m)\n",
    "fig.add_child(m)\n",
    "fig"
   ]
  },
  {
   "cell_type": "code",
   "execution_count": null,
   "metadata": {
    "slideshow": {
     "slide_type": "skip"
    }
   },
   "outputs": [],
   "source": [
    "\n",
    "    # Milan, Heidelberg, Berlin# Define change function for drop-down\n",
    "def on_category_change(change):\n",
    "    # First we need to clear_output() entirely and then re-draw all components\n",
    "    clear_output()\n",
    "    \n",
    "    x, y = sotm_location[0]['geometry']['coordinates']\n",
    "    fig2, map2 = createWidgetBaseMap('100%', 600, include=False)\n",
    "    \n",
    "    for restaurant in sotm_restaurants:\n",
    "        if restaurant.get('yelp', '') != '':\n",
    "            if restaurant['yelp']['categories'][0]['title'] == change['new']:\n",
    "                restaurant_coords = restaurant['geometry']['coordinates']\n",
    "                clnt = ors.Client(key='5b3ce3597851110001cf624870cf2f2a58d44c718542b3088221b684')\n",
    "                route = clnt.directions(coordinates=[[x,y],\n",
    "                                                     restaurant_coords\n",
    "                                                    ],\n",
    "                                       format_out='geojson',\n",
    "                                       profile='foot-walking',\n",
    "                                       geometry_format='geojson')\n",
    "                \n",
    "                route_properties = route['features'][0]['properties']\n",
    "                folium.features.GeoJson(route).add_to(map2)\n",
    "\n",
    "                restaurant_icon = folium.features.CustomIcon('https://openrouteservice.org/wp-content/uploads/2017/07/restaurant2.png',\n",
    "                                                             icon_size=(50, 50))\n",
    "                popup_html = \"\"\"<h4>{0}</h4>\n",
    "                                <strong><a href=\"{1}\" target=\"_blank\">URL</a></strong><br>\n",
    "                                <strong>Category: </strong>{2}<br>\n",
    "                                <strong>Walking time: </strong>{3:.2f} mins<br>\n",
    "                                <strong>Reviews: </strong>{4}<br>                                \n",
    "                                <strong>Stars: </strong>{5}\"\"\".format(restaurant['yelp']['name'],\n",
    "                                                              restaurant['yelp']['url'],\n",
    "                                                              change['new'],\n",
    "                                                              route_properties['summary'][0]['duration'] / 60,\n",
    "                                                              restaurant['yelp']['review_count'],\n",
    "                                                              restaurant['yelp']['rating'])\n",
    "                \n",
    "                iframe = branca.element.IFrame(html=popup_html, width=300, height=150)\n",
    "                popup = folium.Popup(iframe, max_width=300)\n",
    "                folium.map.Marker(list(reversed(restaurant_coords)),\n",
    "                                  icon=restaurant_icon,\n",
    "                                  popup=popup,\n",
    "                                 ).add_to(map2)\n",
    "    fig2.add_child(map2)\n",
    "    # Now we re-add the widgets to the cleared output area\n",
    "    display(widget_dd)\n",
    "    display(fig2)"
   ]
  },
  {
   "cell_type": "markdown",
   "metadata": {
    "slideshow": {
     "slide_type": "slide"
    }
   },
   "source": [
    "## IPython widget\n",
    "\n",
    "The final product is a drop-down widget to query the directions to nearby restaurants by restaurant category:"
   ]
  },
  {
   "cell_type": "code",
   "execution_count": null,
   "metadata": {
    "scrolled": false,
    "slideshow": {
     "slide_type": "-"
    }
   },
   "outputs": [],
   "source": [
    "category_titles = []\n",
    "for restaurant in sotm_restaurants:\n",
    "    if restaurant.get('yelp', '') != '':\n",
    "        category_titles.append(restaurant['yelp']['categories'][0]['title'])\n",
    "\n",
    "widget_dd = widgets.Dropdown(options=set(category_titles)) # Create widget with categories in drop-down\n",
    "widget_dd.observe(on_category_change, names='value') # Hidden method is called by the listener        \n",
    "display(widget_dd)"
   ]
  },
  {
   "cell_type": "markdown",
   "metadata": {
    "slideshow": {
     "slide_type": "slide"
    }
   },
   "source": [
    "## Thanks to...\n",
    "\n",
    "- **Pelias** and **GraphHopper** crews for developing cutting-edge open-source tech!\n",
    "- **Damian Avila** for the `rise` development which powers this presentation\n",
    "- **Jupyter** development crew\n",
    "- **Yelp** for providing a free attractions API\n",
    "\n",
    "The source code and PDF of this presentation can be found here:\n",
    "\n",
    "https://github.com/nilsnolde/sotm2018"
   ]
  },
  {
   "cell_type": "markdown",
   "metadata": {
    "slideshow": {
     "slide_type": "slide"
    }
   },
   "source": [
    "<div style=\"width: 48%; display: inline-block; vertical-align: top;\">\n",
    "    <center>\n",
    "        <https://openrouteservice.org>\n",
    "        <div style=\"width:60%;\">\n",
    "            <blockquote>Sign up for 2500 requests/day for free!</blockquote>\n",
    "        </div>\n",
    "            <figure>\n",
    "                <a href=\"https://github.com/GIScience/openrouteservice\"><img src=\"../img/github.png\" style=\"height:5em\"></a>\n",
    "            </figure>\n",
    "    <br>\n",
    "    <https://github.com/GIScience/openrouteservice>\n",
    "    <https://github.com/GIScience/openrouteservice-app>\n",
    "    </center>\n",
    "</div>\n",
    "\n",
    "<div style=\"padding-left: 40px; border-left: 1px solid black; width: 48%; display: inline-block; vertical-align: top;\">\n",
    "    <h3>Heidelberg Institute for Geoinformation Technology (HeiGIT)</h3>\n",
    "    Berliner Str. 45 (Mathematikon)\n",
    "    <br>\n",
    "    69120 Heidelberg\n",
    "    <br>\n",
    "    <br>\n",
    "    <h1>Nils Nolde</h1>\n",
    "    <h3>Software & business development</h3>\n",
    "    \n",
    "</div>"
   ]
  }
 ],
 "metadata": {
  "celltoolbar": "Slideshow",
  "kernelspec": {
   "display_name": "Python 3",
   "language": "python",
   "name": "python3"
  },
  "language_info": {
   "codemirror_mode": {
    "name": "ipython",
    "version": 3
   },
   "file_extension": ".py",
   "mimetype": "text/x-python",
   "name": "python",
   "nbconvert_exporter": "python",
   "pygments_lexer": "ipython3",
   "version": "3.6.4"
  },
  "livereveal": {
   "autoselect": "code",
   "overlay": "<div class='myheader'><img class='topleft' src='../img/ors.png' alt='ors.png'><img class='topright' src='../img/uni.png' alt='ors.png'></div><div class='myfooter'><img class='lowerleft' src='../img/heigit.png' alt='heigit.png'><img class='lowerright' src='../img/kts.png' alt='kts.png'></div>",
   "scroll": true,
   "theme": "simple",
   "transition": "zoom"
  }
 },
 "nbformat": 4,
 "nbformat_minor": 2
}
